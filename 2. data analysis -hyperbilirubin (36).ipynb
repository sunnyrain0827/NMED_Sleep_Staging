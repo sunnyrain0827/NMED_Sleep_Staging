{
 "cells": [
  {
   "cell_type": "markdown",
   "id": "7b5d8fb5-a94b-40e1-a9e5-f2f0406d1422",
   "metadata": {},
   "source": [
    "# Hyperbilirubin (exchange blood transfusion) dataset (36 subjects)\n",
    "\n",
    "Reference datasets:\n",
    "- healthy dataset\n",
    "- hyper-blood-change-notchange-sample\n",
    "\n",
    "This dataset contains no annotations. Then we would like to:\n",
    "\n",
    "1. Through time-frequency analysis, to check the EEG signal quality. hyperbilirubin vs healthy dataset.\n",
    "2. Time frequency analysis: Exchange blood vs not exchange blood \n",
    "3. Predict the time of different sleep stages\n",
    "4. compare the sleep quality with that of the healthy dataset"
   ]
  },
  {
   "cell_type": "markdown",
   "id": "200df2c8-ba0f-448f-981c-7d31eb83d18c",
   "metadata": {},
   "source": [
    "## load the dataset"
   ]
  },
  {
   "cell_type": "code",
   "execution_count": 1,
   "id": "bb0fa2ff-4c6b-457c-b353-777503a14f29",
   "metadata": {},
   "outputs": [],
   "source": [
    "import os\n",
    "import copy\n",
    "import pylab\n",
    "import numpy as np\n",
    "import pandas as pd\n",
    "import matplotlib\n",
    "#matplotlib.use(\"TkAgg\")\n",
    "import matplotlib.pyplot as plt\n",
    "import mne \n",
    "import seaborn as sns\n",
    "from multiprocessing import Pool\n",
    "import threading\n",
    "\n",
    "mne.set_log_level('ERROR')"
   ]
  },
  {
   "cell_type": "code",
   "execution_count": 2,
   "id": "72e6e1c5-a2fb-49cc-8361-20aed7ee65aa",
   "metadata": {},
   "outputs": [],
   "source": [
    "def readPath(path):\n",
    "    file_path = []\n",
    "    for root, dirs, files in os.walk(path):\n",
    "        \n",
    "        for file in files:\n",
    "            if file.endswith('.edf'):\n",
    "                path_name = os.path.join(root, file)\n",
    "                file_path.append(path_name)\n",
    "            #print(path_name)\n",
    "\n",
    "    return file_path\n"
   ]
  },
  {
   "cell_type": "code",
   "execution_count": 3,
   "id": "b0c39c9a-aa66-41b2-9b95-40b4a2583b32",
   "metadata": {},
   "outputs": [],
   "source": [
    "def loadFile(path, exclude_channels=True, \n",
    "                             crop_wake_mins=30):\n",
    "    \"\"\"Load a raw.edf file.\n",
    "\n",
    "    Parameters\n",
    "    ----------\n",
    "    path : str\n",
    "        Path to the .edf file containing the raw data. \n",
    "    exclude_channels : bool\n",
    "        If True, only keep EEG channels and discard other modalities \n",
    "        (speeds up loading).\n",
    "    crop_wake_mins : float\n",
    "        Number of minutes of wake events before and after sleep events.\n",
    "\n",
    "    Returns\n",
    "    -------\n",
    "    mne.io.Raw :\n",
    "        Raw object containing the EEG and annotations.        \n",
    "    \"\"\"\n",
    "\n",
    "    mapping = {\n",
    "    # 'EEG Fp1-AV',\n",
    "    # #'EEG Fp2-AV',\n",
    "    # 'EEG C3-AV',\n",
    "    # #'EEG C4-AV',\n",
    "    # #'EEG P3-AV',\n",
    "\n",
    "    # #'EEG O1-AV',\n",
    "    # #'EEG T3-AV',\n",
    "    # 'EEG T4-AV',\n",
    "    # 'EEG Cz-AV',\n",
    "    # #'EEG Pz-AV',\n",
    "    # 'EEG O2-AV',\n",
    "    # 'EEG P4-AV',\n",
    "     'ECG',\n",
    "     'EMG Left_Leg',\n",
    "     'EMG Right_Leg'}\n",
    "\n",
    "    \n",
    "    exclude = mapping if exclude_channels else ()\n",
    "\n",
    "    #Read the raw data and annotations\n",
    "    raw = mne.io.read_raw_edf(path, exclude=exclude)\n",
    "\n",
    "    if not exclude_channels:\n",
    "        raw.set_channel_types(mapping)\n",
    "\n",
    "    # Rename EEG channel: replace EEG\n",
    "    ch_names = {i: i.replace('EEG ', '') \n",
    "                for i in raw.ch_names if 'EEG' in i}\n",
    "    mne.rename_channels(raw.info, ch_names)\n",
    "\n",
    "\n",
    "    #store the subject information:\n",
    "    \n",
    "    basename = os.path.basename(path)\n",
    "    subj_nb = os.path.splitext(basename)[0] #e.g., 113\n",
    "    raw.info['subject_info'] = {'id': subj_nb}\n",
    "    \n",
    "\n",
    "    return raw"
   ]
  },
  {
   "cell_type": "code",
   "execution_count": 4,
   "id": "5627450e-8144-4ba7-9ef1-c704593af9ba",
   "metadata": {},
   "outputs": [],
   "source": [
    "# path_1 = './healthy-2023' #24\n",
    "# path_2 = './healthy-2024' #23\n",
    "path_3 = './hyper-bloodchange-2024' #36\n",
    "# path_4 = './hyper-blood-change-notchange-sample' #6"
   ]
  },
  {
   "cell_type": "code",
   "execution_count": 5,
   "id": "be2fdc7b-e1cf-4d4a-a1cb-5c88c59341d5",
   "metadata": {},
   "outputs": [],
   "source": [
    "# res_1 = readPath(path_1) #healthy - from 2023\n",
    "# res_2 = readPath(path_2) # healthy - 2024\n",
    "res_3 = readPath(path_3) #高胆换血病例EEG-\n",
    "# res_4 = readPath(path_4) #高胆红素血症（换血及未换血各3个）\n",
    "\n",
    "#start with the healthy dataset\n",
    "# res_healthy = res_1 + res_2"
   ]
  },
  {
   "cell_type": "code",
   "execution_count": 6,
   "id": "db50abfd-017d-4fd6-a673-e20a99b30ade",
   "metadata": {},
   "outputs": [],
   "source": [
    "# raws_healthy = [loadFile(f) for f in res_healthy]\n",
    "raws = [loadFile(f) for f in res_3]\n",
    "# raws_4 = [loadFile(f) for f in res_4]\n"
   ]
  },
  {
   "cell_type": "code",
   "execution_count": 7,
   "id": "0425477f-f91e-4667-9e12-877194d51e25",
   "metadata": {},
   "outputs": [
    {
     "data": {
      "text/plain": [
       "36"
      ]
     },
     "execution_count": 7,
     "metadata": {},
     "output_type": "execute_result"
    }
   ],
   "source": [
    "len(raws)"
   ]
  },
  {
   "cell_type": "markdown",
   "id": "6836ed87-3024-4a75-a1c6-a7388b20bbac",
   "metadata": {},
   "source": [
    "#### Check the data quality, pick only a few recordings\n",
    "\n",
    "Check the length of each recording, check how many channels each recording has. <br>\n",
    "Remove the following files: <br>\n",
    "10 in total:\n",
    "- 9 channels: 200, 221, 222, 223\n",
    "- very short length: 201, 202, 203, 204, 205, 206\n",
    "\n",
    "##### Now we have 26 recordings."
   ]
  },
  {
   "cell_type": "code",
   "execution_count": 8,
   "id": "1b66fb3d-592e-462d-9167-ad8686c21541",
   "metadata": {},
   "outputs": [
    {
     "data": {
      "text/plain": [
       "[0, 21, 22, 23, 1, 2, 3, 4, 5, 6]"
      ]
     },
     "execution_count": 8,
     "metadata": {},
     "output_type": "execute_result"
    }
   ],
   "source": [
    "exclude_id = [200, 221, 222, 223,201, 202, 203, 204, 205, 206]\n",
    "exclude_num = [x-200 for x in exclude_id]\n",
    "exclude_num"
   ]
  },
  {
   "cell_type": "code",
   "execution_count": 9,
   "id": "44d6e5cf-dbcb-4ae3-83fb-376fb7cea9ec",
   "metadata": {},
   "outputs": [
    {
     "data": {
      "text/plain": [
       "26"
      ]
     },
     "execution_count": 9,
     "metadata": {},
     "output_type": "execute_result"
    }
   ],
   "source": [
    "raws_subset = []\n",
    "for i, raw in enumerate(raws):\n",
    "    if i not in exclude_num:\n",
    "        raws_subset.append(raw)\n",
    "len(raws_subset)    "
   ]
  },
  {
   "cell_type": "code",
   "execution_count": 10,
   "id": "1a0d0587-7fc3-4789-8ac7-c75b5041d690",
   "metadata": {},
   "outputs": [
    {
     "data": {
      "text/plain": [
       "[<RawEDF | 207.edf, 12 x 18803500 (37607.0 s), ~14 kB, data not loaded>,\n",
       " <RawEDF | 208.edf, 12 x 24201000 (48402.0 s), ~14 kB, data not loaded>,\n",
       " <RawEDF | 209.edf, 12 x 9331500 (18663.0 s), ~14 kB, data not loaded>,\n",
       " <RawEDF | 210.edf, 12 x 7309500 (14619.0 s), ~14 kB, data not loaded>,\n",
       " <RawEDF | 211.edf, 12 x 24315000 (48630.0 s), ~14 kB, data not loaded>,\n",
       " <RawEDF | 212.edf, 12 x 22587500 (45175.0 s), ~14 kB, data not loaded>,\n",
       " <RawEDF | 213.edf, 9 x 8326000 (16652.0 s), ~12 kB, data not loaded>,\n",
       " <RawEDF | 214.edf, 12 x 23199500 (46399.0 s), ~14 kB, data not loaded>,\n",
       " <RawEDF | 215.edf, 12 x 22196000 (44392.0 s), ~14 kB, data not loaded>,\n",
       " <RawEDF | 216.edf, 12 x 23241000 (46482.0 s), ~14 kB, data not loaded>,\n",
       " <RawEDF | 217.edf, 12 x 9648000 (19296.0 s), ~14 kB, data not loaded>,\n",
       " <RawEDF | 218.edf, 12 x 22276000 (44552.0 s), ~14 kB, data not loaded>,\n",
       " <RawEDF | 219.edf, 12 x 11635000 (23270.0 s), ~14 kB, data not loaded>,\n",
       " <RawEDF | 220.edf, 12 x 8073500 (16147.0 s), ~14 kB, data not loaded>,\n",
       " <RawEDF | 224.edf, 12 x 7498500 (14997.0 s), ~14 kB, data not loaded>,\n",
       " <RawEDF | 225.edf, 12 x 27923000 (55846.0 s), ~14 kB, data not loaded>,\n",
       " <RawEDF | 226.edf, 12 x 3168000 (6336.0 s), ~14 kB, data not loaded>,\n",
       " <RawEDF | 227.edf, 12 x 16147500 (32295.0 s), ~14 kB, data not loaded>,\n",
       " <RawEDF | 228.edf, 12 x 5952000 (11904.0 s), ~14 kB, data not loaded>,\n",
       " <RawEDF | 229.edf, 12 x 7626000 (15252.0 s), ~14 kB, data not loaded>,\n",
       " <RawEDF | 230.edf, 12 x 22955500 (45911.0 s), ~14 kB, data not loaded>,\n",
       " <RawEDF | 231.edf, 12 x 28111000 (56222.0 s), ~14 kB, data not loaded>,\n",
       " <RawEDF | 232.edf, 12 x 19603500 (39207.0 s), ~14 kB, data not loaded>,\n",
       " <RawEDF | 233.edf, 12 x 23746500 (47493.0 s), ~14 kB, data not loaded>,\n",
       " <RawEDF | 234.edf, 12 x 22311500 (44623.0 s), ~14 kB, data not loaded>,\n",
       " <RawEDF | 235.edf, 12 x 8198000 (16396.0 s), ~14 kB, data not loaded>]"
      ]
     },
     "execution_count": 10,
     "metadata": {},
     "output_type": "execute_result"
    }
   ],
   "source": [
    "raws_subset"
   ]
  },
  {
   "cell_type": "markdown",
   "id": "31dcfe56-89cf-4873-976b-74ee34d4f079",
   "metadata": {},
   "source": [
    "Test unit: Extract epochs without events needed."
   ]
  },
  {
   "cell_type": "code",
   "execution_count": 11,
   "id": "22b5d1b2-c51b-491e-b600-e0bc5436cbf0",
   "metadata": {},
   "outputs": [],
   "source": [
    "# epochs = mne.make_fixed_length_epochs(raws[0], duration=30, preload=False)\n",
    "# epochs.plot_image(picks=1)"
   ]
  },
  {
   "cell_type": "code",
   "execution_count": 12,
   "id": "69d8aff2-9b12-413b-b2c3-aa6bca12a181",
   "metadata": {},
   "outputs": [],
   "source": [
    "# #No events in this dataset\n",
    "# count = -1\n",
    "# for raw in raws:\n",
    "#     count +=1\n",
    "#     print(count)\n",
    "#     events, _ = mne.events_from_annotations(\n",
    "#         raw, \n",
    "#         chunk_duration=30) \n",
    "#     print(events)"
   ]
  },
  {
   "cell_type": "code",
   "execution_count": 13,
   "id": "4604ea91-1b81-4acd-99c8-54ef8648b476",
   "metadata": {},
   "outputs": [],
   "source": [
    "# i = -1\n",
    "# for raw in raws:\n",
    "#     i += 1\n",
    "#     print(\"subject: \",i)\n",
    "#     events,_ = mne.events_from_annotations(raw,chunk_duration=30)\n",
    "#     print(len(events))"
   ]
  },
  {
   "cell_type": "markdown",
   "id": "f3963151-8a6f-44e3-a8d4-f23f382e36ac",
   "metadata": {},
   "source": [
    "## 这个数据集读不出来标注，可是使用EDFBrowser查看，有些文件是有标注的，需要确认是否有标注。<br>\n",
    "\n",
    "When setting chunk_duration=30, cannot read the annotation. Maybe only annotate the start time of stages. No duration > 30s."
   ]
  },
  {
   "cell_type": "markdown",
   "id": "8714145a-bc8c-43f2-8133-b097e2623a4c",
   "metadata": {},
   "source": [
    "## Time frequency analysis\n",
    "\n",
    "objective: to generate PSD plots -- per subject, per sleep stage <br>\n",
    "method:\n",
    "1. filter (keep < 30 HZ)\n",
    "2. extract epochs\n",
    "3. compute PSD for epochs of different sleep stages\n",
    "\n",
    "- (exchange vs not exchange blood)\n",
    "- vs healthy"
   ]
  },
  {
   "cell_type": "code",
   "execution_count": 14,
   "id": "164d7351-66e4-4fd5-a227-1714dc0df34a",
   "metadata": {},
   "outputs": [],
   "source": [
    "def filter(raw):\n",
    "    l_freq, h_freq = None, 30\n",
    "    raw.load_data().filter(l_freq, h_freq)  # filtering happens in-place  "
   ]
  },
  {
   "cell_type": "markdown",
   "id": "599ea8df-245c-47a8-98b7-aeaca1788b82",
   "metadata": {},
   "source": [
    "Filter the data."
   ]
  },
  {
   "cell_type": "code",
   "execution_count": 15,
   "id": "3f1aedf1-b8ad-4974-9b7e-df8f4fbcbd36",
   "metadata": {},
   "outputs": [],
   "source": [
    "#Filter the input data (remove the power line noise)\n",
    "for raw in raws_subset:\n",
    "    filter(raw)"
   ]
  },
  {
   "cell_type": "markdown",
   "id": "17b6a986-665e-4896-80b1-c70f65484329",
   "metadata": {},
   "source": [
    "Generate an object: epochs_all, this is a set for epochs for each subject."
   ]
  },
  {
   "attachments": {},
   "cell_type": "markdown",
   "id": "6c79e358-fa0e-43c7-97f3-e206f626c054",
   "metadata": {},
   "source": [
    "### Epoch Image Map -- Frequency analysis: per subject x electrode positions\n",
    "\n",
    "Based on the 10-20 international system of electrode placement and the electodes we have: <br>\n",
    "Our electrodes can be arranged into: <br>\n",
    "- Frontal lobe: FP1, FP2 (picks: 0,1)\n",
    "- Parietal lobe: C3, Cz, C4, P3, Pz, P4 (picks: 2,10,3,4,11,5)\n",
    "- Temporal lobe: T7, T8 (picks: 8,9)\n",
    "- Occipital lobe: O1, O2 (picks: 6,7)\n",
    "\n",
    "Next, we can plot epochs of each sleep stage as an image map: <br>\n",
    "1. each row of pixels in the image representing a single epoch\n",
    "2. the horizontal axis representing time\n",
    "3. each pixel's color representing the signal value at that time sample for that epoch\n",
    "\n",
    "We saved the image maps."
   ]
  },
  {
   "cell_type": "markdown",
   "id": "a2a57454-2197-4805-9258-b32547d4aa63",
   "metadata": {},
   "source": [
    "Plot image maps and save."
   ]
  },
  {
   "cell_type": "code",
   "execution_count": 16,
   "id": "35e228bb-2911-4a77-ab51-8ac75e8c4845",
   "metadata": {},
   "outputs": [],
   "source": [
    "# mne.make_fixed_length_epochs(raws[3], 30, preload=False)"
   ]
  },
  {
   "cell_type": "code",
   "execution_count": 17,
   "id": "b666cd60-082a-4739-859a-6b1d050b28ca",
   "metadata": {},
   "outputs": [],
   "source": [
    "# def EpochImageMap(raw, chunk_duration=30):\n",
    "#     epoch = mne.make_fixed_length_epochs(raw, chunk_duration, preload=False)\n",
    "#     picks = epoch.picks\n",
    "#     images = epoch.plot_image(picks=picks, group_by=dict(Frontal=[0,1], Parietal=[2,10,3,4,11,5], Temporal=[8,9], Occipital=[6,7]),combine='median')\n",
    "    \n",
    "#     file_number = list(epoch.info['subject_info'].values())[0]\n",
    "#     location = ['frontal', 'parietal', 'temporal', 'occipital']\n",
    "#     count=-1\n",
    "#     for image in images:\n",
    "#         count+=1\n",
    "#         im_name = './analysis images/hyper(36)/' + file_number +'-'+location[count] + '.jpg' #add image name\n",
    "#         image.savefig(im_name)\n",
    "#         plt.close('all')\n",
    "#         plt.close(image)\n",
    "        \n",
    "#     print('successful')"
   ]
  },
  {
   "cell_type": "code",
   "execution_count": 18,
   "id": "f8a655c2-6add-4889-9587-aa4ba20a279a",
   "metadata": {},
   "outputs": [],
   "source": [
    "# raws_subset"
   ]
  },
  {
   "cell_type": "code",
   "execution_count": 19,
   "id": "119eb929-f7c3-4a59-bd71-49a04a95abb3",
   "metadata": {},
   "outputs": [],
   "source": [
    "# for raw in raws_subset:\n",
    "#     EpochImageMap(raw)"
   ]
  },
  {
   "cell_type": "markdown",
   "id": "19495e16-0b02-45c2-adb7-810e14348495",
   "metadata": {},
   "source": [
    "### Connectivity analysis\n",
    "\n",
    "EEG信号按频谱不同可划分为四种基本类型：<br>\n",
    "\n",
    "- α波：频率分布为8-13HZ，主要包含两个波段，μ1（8-10HZ）和μ2（10-13HZ），振幅约为20-100μV，在枕页及顶叶候补α波最显著。\n",
    "- β波：频率在（13-30HZ）包含两个波段β1（13-20HZ），β2（20-30HZ），振幅约为5-20μV，主要出现在额叶。\n",
    "- θ波：频率在4-7HZ，振幅约为100-150μV，在困倦时出现，是中枢神经系统抑制的表现。\n",
    "- δ波：频率在0.5-3.5HZ，振幅约为0-200μV，只出现在睡眠，深度麻醉，缺氧或大脑病变时出现。\n",
    "\n",
    "- https://mne.tools/0.23/auto_tutorials/epochs/60_make_fixed_length_epochs.html"
   ]
  },
  {
   "cell_type": "markdown",
   "id": "f8780420-b45f-4ae2-ae8d-c5ae1a948a0d",
   "metadata": {},
   "source": [
    "## Frequency analysis\n"
   ]
  },
  {
   "cell_type": "code",
   "execution_count": 20,
   "id": "2b633494-4c75-4f46-90ec-c97caf1ea3ad",
   "metadata": {},
   "outputs": [],
   "source": [
    "epochs = mne.make_fixed_length_epochs(raws[0], duration=30, preload=False)"
   ]
  },
  {
   "cell_type": "code",
   "execution_count": 21,
   "id": "45a6a89f-83ea-4550-ba5e-22932eb537ba",
   "metadata": {},
   "outputs": [
    {
     "data": {
      "text/html": [
       "<table class=\"table table-hover table-striped table-sm table-responsive small\">\n",
       "    <tr>\n",
       "        <th>Number of events</th>\n",
       "        <td>488</td>\n",
       "    </tr>\n",
       "    <tr>\n",
       "        <th>Events</th>\n",
       "        \n",
       "        <td>1: 488</td>\n",
       "        \n",
       "    </tr>\n",
       "    <tr>\n",
       "        <th>Time range</th>\n",
       "        <td>0.000 – 29.998 s</td>\n",
       "    </tr>\n",
       "    <tr>\n",
       "        <th>Baseline</th>\n",
       "        <td>off</td>\n",
       "    </tr>\n",
       "</table>"
      ],
      "text/plain": [
       "<Epochs |  488 events (good & bad), 0 – 29.998 s, baseline off, ~12 kB, data not loaded,\n",
       " '1': 488>"
      ]
     },
     "execution_count": 21,
     "metadata": {},
     "output_type": "execute_result"
    }
   ],
   "source": [
    "epochs"
   ]
  },
  {
   "cell_type": "code",
   "execution_count": null,
   "id": "6c662a44-eb0a-47b4-bade-65265c551f17",
   "metadata": {},
   "outputs": [],
   "source": []
  },
  {
   "cell_type": "code",
   "execution_count": null,
   "id": "4452889a-1c83-4bba-b454-b48f7546679d",
   "metadata": {},
   "outputs": [],
   "source": []
  },
  {
   "cell_type": "code",
   "execution_count": null,
   "id": "66afe823-d485-4d96-af6f-cdf62c2816d2",
   "metadata": {},
   "outputs": [],
   "source": []
  },
  {
   "cell_type": "code",
   "execution_count": null,
   "id": "daa962c8-d4c1-4f67-9aed-0d7bd5ae8f09",
   "metadata": {},
   "outputs": [],
   "source": [
    "for epoch in epochs_all:\n",
    "    file_number = list(epoch.info['subject_info'].values())[0]\n",
    "    print('Subject: ', file_number)\n",
    "    epoch[\"AS1\"].compute_psd(picks=[1,2,4,11]).plot()\n",
    "    plt.show()"
   ]
  },
  {
   "cell_type": "code",
   "execution_count": null,
   "id": "53d2fea1-e3f2-4ff1-bfa9-0a60f1f7246e",
   "metadata": {},
   "outputs": [],
   "source": [
    "if __name__ == '__main__' :\n",
    "    Threads = []\n",
    "    epochs_all = []\n",
    "    i = 0\n",
    "    for raw in raws_4:\n",
    "        t = MyThread(func=extract_epochs,args=raw,name ='Thread'+ str(i))\n",
    "        i+=1\n",
    "        Threads.append(t)\n",
    "        t.start()\n",
    "    for t in Threads:\n",
    "        t.join()\n",
    "        epochs_all.append(t.getResult()) #epochs_all would be the dataset of all epochs"
   ]
  }
 ],
 "metadata": {
  "kernelspec": {
   "display_name": "Python 3 (ipykernel)",
   "language": "python",
   "name": "python3"
  },
  "language_info": {
   "codemirror_mode": {
    "name": "ipython",
    "version": 3
   },
   "file_extension": ".py",
   "mimetype": "text/x-python",
   "name": "python",
   "nbconvert_exporter": "python",
   "pygments_lexer": "ipython3",
   "version": "3.12.2"
  }
 },
 "nbformat": 4,
 "nbformat_minor": 5
}
