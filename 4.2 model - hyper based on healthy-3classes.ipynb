{
 "cells": [
  {
   "cell_type": "code",
   "execution_count": null,
   "id": "2bf13405-de45-4662-9355-7073d08705d6",
   "metadata": {},
   "outputs": [],
   "source": []
  },
  {
   "cell_type": "code",
   "execution_count": null,
   "id": "7eafebe2-32cf-4c99-83e0-89138b624113",
   "metadata": {},
   "outputs": [],
   "source": []
  },
  {
   "cell_type": "markdown",
   "id": "4bcb772d-6cc6-4e98-af9b-74743bcf0265",
   "metadata": {
    "jp-MarkdownHeadingCollapsed": true
   },
   "source": [
    "### 读不出的数据汇总：\n",
    "\n",
    "#### 一期数据（健康）：共24个\n",
    "- 第一次：收到21个，可使用19个。其中两个没有标注（剔除），一个为不平衡数据集（保留了）。\n",
    "- 第二次：收到5个\n",
    "\n",
    "#### 正常睡眠，补充：共23个\n",
    "- 收到26个，可读出23个，3个读不来的原因是4th character of start date is not a valid 7-bit ASCII character.\n",
    "- analysis: improve the sleep model\n",
    "读不出来的数据如下：\n",
    "1. Desktop/pylab/EEG数据集/正常睡眠，补充/35W-other/袁艳华之子_A区33N@20231026_231617\n",
    "2. Desktop/pylab/EEG数据集/正常睡眠，补充/36W-other/张泽正_C区  46床@20231012_111224\n",
    "3. Desktop/pylab/EEG数据集/正常睡眠，补充/40W-other/肖晓翠之女_D区45床@20230725_142208\n",
    "   \n",
    "#### 高胆换血病例EEG-：剔除低质量数据（通道只有9个和时长短），共26个\n",
    "- 收到37个，可读出来的共36个。1个读不出来的原因是start date invalid.\n",
    "- no events & annotations\n",
    "- analysis: use the sleep model to predict on all data\n",
    "\n",
    "读不出来的数据如下：\n",
    "1. Desktop/pylab/EEG数据集/高胆换血病例EEG-/吴桂敏之子（李瀚喆）_567724@20211217_\n",
    "\n",
    "   \n",
    "#### 高胆红素血症（换血及未换血各3个）：\n",
    "- 收到6个，可读出6个。\n",
    "- analysis: 换血 vs 未换血\n",
    "- - sleep model\n",
    "  - wave analysis\n",
    " \n",
    "\n",
    "### Rename the files:\n",
    "Rename the files with numbers (which can be easily recognized through subject_no.) <br>\n",
    "- healthy-2023: 1-26, without 7 and 4.edf (keep with the original name)\n",
    "- healthy-2024: 100-122.edf, 23 files in total\n",
    "- 高胆换血病例EEG： 200-235.edf, 36 files in total\n",
    "- 高胆红素血症（换血及未换血各3个）：300-305.edf\n",
    "- - 换血：300, 301, 302\n",
    "  - 未换血：303, 304, 305\n",
    "\n",
    "\n",
    "### 数据集潜在的问题：\n",
    "一个人有多段数据"
   ]
  },
  {
   "cell_type": "markdown",
   "id": "d85cc5a8-dd7c-4ed3-9fb8-d4f88c4a9288",
   "metadata": {},
   "source": [
    "## 1. Dataset Preperation"
   ]
  },
  {
   "cell_type": "code",
   "execution_count": 1,
   "id": "6a835b46-7c0f-402d-ba94-696a36fad85f",
   "metadata": {},
   "outputs": [],
   "source": [
    "import os\n",
    "import copy\n",
    "import pylab\n",
    "import numpy as np\n",
    "import pandas as pd\n",
    "import matplotlib\n",
    "#matplotlib.use(\"TkAgg\")\n",
    "import matplotlib.pyplot as plt\n",
    "import mne \n",
    "from multiprocessing import Pool\n",
    "import threading\n",
    "\n",
    "mne.set_log_level('ERROR')"
   ]
  },
  {
   "cell_type": "code",
   "execution_count": 2,
   "id": "7fa40b3a-923b-45dc-b9e9-817a23e1879c",
   "metadata": {},
   "outputs": [
    {
     "data": {
      "text/plain": [
       "FullArgSpec(args=['input_fname', 'eog', 'misc', 'stim_channel', 'exclude', 'infer_types', 'include', 'preload', 'units', 'encoding'], varargs=None, varkw=None, defaults=(None, None, 'auto', (), False, None, False, None, 'utf8'), kwonlyargs=['verbose'], kwonlydefaults={'verbose': None}, annotations={})"
      ]
     },
     "execution_count": 2,
     "metadata": {},
     "output_type": "execute_result"
    }
   ],
   "source": [
    "import matplotlib.font_manager\n",
    "matplotlib.rcParams['savefig.dpi'] = 300\n",
    "matplotlib.rcParams[\"figure.dpi\"] = 100\n",
    "plt.rcParams['font.sans-serif']=['SimHei'] #Show Chinese label\n",
    "plt.rcParams['axes.unicode_minus']=False   #These two lines need to be set manually\n",
    "#%matplotlib tk\n",
    "import inspect\n",
    "inspect.getfullargspec(mne.io.read_raw_edf)"
   ]
  },
  {
   "cell_type": "code",
   "execution_count": 3,
   "id": "1e4312a9-08f5-4322-b4a1-ff2b304d2514",
   "metadata": {},
   "outputs": [],
   "source": [
    "def readPath(path):\n",
    "    file_path = []\n",
    "    for root, dirs, files in os.walk(path):\n",
    "        \n",
    "        for file in files:\n",
    "            if file.endswith('.edf'):\n",
    "                path_name = os.path.join(root, file)\n",
    "                file_path.append(path_name)\n",
    "            #print(path_name)\n",
    "\n",
    "    return file_path"
   ]
  },
  {
   "cell_type": "code",
   "execution_count": 4,
   "id": "ca5e64aa-c16b-4cec-b38b-c12e7f400e01",
   "metadata": {},
   "outputs": [],
   "source": [
    "def loadFile(path, exclude_channels=True, \n",
    "                             crop_wake_mins=30):\n",
    "    \"\"\"Load a raw.edf file.\n",
    "\n",
    "    Parameters\n",
    "    ----------\n",
    "    path : str\n",
    "        Path to the .edf file containing the raw data. \n",
    "    exclude_channels : bool\n",
    "        If True, only keep EEG channels and discard other modalities \n",
    "        (speeds up loading).\n",
    "    crop_wake_mins : float\n",
    "        Number of minutes of wake events before and after sleep events.\n",
    "\n",
    "    Returns\n",
    "    -------\n",
    "    mne.io.Raw :\n",
    "        Raw object containing the EEG and annotations.        \n",
    "    \"\"\"\n",
    "\n",
    "    mapping = {\n",
    "    # 'EEG Fp1-AV',\n",
    "    # #'EEG Fp2-AV',\n",
    "    # 'EEG C3-AV',\n",
    "    # #'EEG C4-AV',\n",
    "    # #'EEG P3-AV',\n",
    "\n",
    "    # #'EEG O1-AV',\n",
    "    # #'EEG T3-AV',\n",
    "    # 'EEG T4-AV',\n",
    "    # 'EEG Cz-AV',\n",
    "    # #'EEG Pz-AV',\n",
    "    # 'EEG O2-AV',\n",
    "    # 'EEG P4-AV',\n",
    "     'ECG',\n",
    "     'EMG Left_Leg',\n",
    "     'EMG Right_Leg'}\n",
    "\n",
    "    \n",
    "    exclude = mapping if exclude_channels else ()\n",
    "\n",
    "    #Read the raw data and annotations\n",
    "    raw = mne.io.read_raw_edf(path, exclude=exclude)\n",
    "\n",
    "    if not exclude_channels:\n",
    "        raw.set_channel_types(mapping)\n",
    "\n",
    "    # Rename EEG channel: replace EEG\n",
    "    ch_names = {i: i.replace('EEG ', '') \n",
    "                for i in raw.ch_names if 'EEG' in i}\n",
    "    mne.rename_channels(raw.info, ch_names)\n",
    "\n",
    "\n",
    "    #store the subject information:\n",
    "    \n",
    "    basename = os.path.basename(path)\n",
    "    subj_nb = os.path.splitext(basename)[0] #e.g., 113\n",
    "    raw.info['subject_info'] = {'id': subj_nb}\n",
    "    \n",
    "\n",
    "    return raw"
   ]
  },
  {
   "cell_type": "code",
   "execution_count": 5,
   "id": "39a11c31-e8d9-4468-a6f2-1764948c229d",
   "metadata": {},
   "outputs": [],
   "source": [
    "path_1 = './healthy-2023'\n",
    "path_2 = './healthy-2024'\n",
    "path_3 = './hyper-bloodchange-2024'\n",
    "path_4 = './hyper-blood-change-notchange-sample'"
   ]
  },
  {
   "cell_type": "code",
   "execution_count": 6,
   "id": "7804cfb7-49b9-48bf-9e5b-08e35b2958da",
   "metadata": {},
   "outputs": [],
   "source": [
    "res_1 = readPath(path_1) #healthy - from 2023\n",
    "res_2 = readPath(path_2) # healthy - 2024\n",
    "res_3 = readPath(path_3) #高胆换血病例EEG-\n",
    "res_4 = readPath(path_4) #高胆红素血症（换血及未换血各3个）\n",
    "\n",
    "#start with the healthy dataset\n",
    "res = res_1 + res_2\n"
   ]
  },
  {
   "cell_type": "code",
   "execution_count": 7,
   "id": "b9bcb9ef-b669-4664-a19f-4c2a9fa5ad65",
   "metadata": {},
   "outputs": [],
   "source": [
    "raws_healthy = [loadFile(f) for f in res] #healthy dataset\n",
    "#raws_2 = [loadFile(f) for f in res_2]\n",
    "raws_3 = [loadFile(f) for f in res_3] #hyper-change blood (36)\n",
    "raws_hyper_6 = [loadFile(f) for f in res_4] #hyper: blood exchanged vs not (6)"
   ]
  },
  {
   "cell_type": "markdown",
   "id": "d9a5a1cd-c64c-4921-a197-2742cab116ef",
   "metadata": {},
   "source": [
    "Filter the unwanted data in raws_3: <br>\n",
    "\n",
    "*** Note: this dataset has no annotations, then cannot extract events. Seperate operations needed."
   ]
  },
  {
   "cell_type": "code",
   "execution_count": 8,
   "id": "d65958ab-99a9-44cb-a6fe-4d252d419f2a",
   "metadata": {},
   "outputs": [
    {
     "data": {
      "text/plain": [
       "26"
      ]
     },
     "execution_count": 8,
     "metadata": {},
     "output_type": "execute_result"
    }
   ],
   "source": [
    "exclude_id = [200, 221, 222, 223,201, 202, 203, 204, 205, 206]\n",
    "exclude_num = [x-200 for x in exclude_id]\n",
    "\n",
    "raws_hyper_26 = []\n",
    "for i, raw in enumerate(raws_3):\n",
    "    if i not in exclude_num:\n",
    "        raws_hyper_26.append(raw)\n",
    "len(raws_hyper_26)    "
   ]
  },
  {
   "cell_type": "code",
   "execution_count": 9,
   "id": "5ce84777-d7dc-4e12-934c-5df54c52eb21",
   "metadata": {},
   "outputs": [
    {
     "data": {
      "text/plain": [
       "47"
      ]
     },
     "execution_count": 9,
     "metadata": {},
     "output_type": "execute_result"
    }
   ],
   "source": [
    "len(raws_healthy)"
   ]
  },
  {
   "cell_type": "markdown",
   "id": "c8350161-59d6-489a-ab96-24ae26059475",
   "metadata": {},
   "source": [
    "Now we have .edf datasets:\n",
    "\n",
    "- raws_healthy\n",
    "- raws_hyper_26\n",
    "- raws_hyper_6\n",
    "\n",
    "Because both raws_healthy (47) and raws_hyper_6 have annotations, we'll check these datasets first."
   ]
  },
  {
   "cell_type": "code",
   "execution_count": 10,
   "id": "f082e494-7451-4c8c-a621-295a0ff8db60",
   "metadata": {},
   "outputs": [],
   "source": [
    "raws_analysis_1 = raws_healthy + raws_hyper_6"
   ]
  },
  {
   "cell_type": "markdown",
   "id": "886d26ba-fd6c-4701-96dd-f7749dd760b3",
   "metadata": {},
   "source": [
    "### 1.1 Filter"
   ]
  },
  {
   "cell_type": "code",
   "execution_count": 11,
   "id": "66c4ac38-d165-4c7b-b03f-0449918adf95",
   "metadata": {},
   "outputs": [],
   "source": [
    "def filter(raw):\n",
    "    l_freq, h_freq = None, 30\n",
    "    raw.load_data().filter(l_freq, h_freq)  # filtering happens in-place  "
   ]
  },
  {
   "cell_type": "markdown",
   "id": "b22571f5-3e2e-4132-b939-dd80a50723df",
   "metadata": {},
   "source": [
    "### 1.2 Extract epochs"
   ]
  },
  {
   "cell_type": "code",
   "execution_count": 12,
   "id": "238838ca-1751-4cd3-9d14-85adfeb2262f",
   "metadata": {},
   "outputs": [],
   "source": [
    "def extract_epochs(raw, chunk_duration=30.):\n",
    "    \"\"\"Extract non-overlapping epochs from raw data.\n",
    "    \n",
    "    Parameters\n",
    "    ----------\n",
    "    raw : mne.io.Raw\n",
    "        Raw data object to be windowed.\n",
    "    chunk_duration : float\n",
    "        Length of a window.\n",
    "    \n",
    "    Returns\n",
    "    -------\n",
    "    np.ndarray\n",
    "        Epoched data, of shape (n_epochs, n_channels, n_times).\n",
    "    np.ndarray\n",
    "        Event identifiers for each epoch, shape (n_epochs,).\n",
    "    \"\"\"\n",
    "    custom_mapping = {\"清醒1\": 3, \"AS1\":2, \"QS1\":1}\n",
    "    events, _ = mne.events_from_annotations(\n",
    "        raw, \n",
    "        event_id=custom_mapping, \n",
    "        chunk_duration=chunk_duration)\n",
    "\n",
    "\n",
    "    tmax = 30. - 1. / raw.info['sfreq']  # tmax in included\n",
    "    picks = mne.pick_types(raw.info, eeg=True)\n",
    "    epochs = mne.Epochs(raw=raw, events=events, picks=picks, preload=True,\n",
    "                        event_id=custom_mapping, tmin=0., tmax=tmax, baseline=None)\n",
    "    \n",
    "    return epochs.get_data(), epochs.events[:, 2] - 1  #with epochs.events[:, 2] - 1, the event mapping would be {\"清醒1\": 2, \"AS1\":1, \"QS1\":0}\n"
   ]
  },
  {
   "cell_type": "markdown",
   "id": "b9e88f03-8d63-4c29-9e89-6985e1e51603",
   "metadata": {},
   "source": [
    "### 1.3 PyTorch dataset\n",
    "\n",
    "- expose an MNE Epochs object as PyTorch dataset\n",
    "- standard scaling\n",
    "\n",
    "EpochsDataset object has:\n",
    "- self.epochs_data = epochs_data\n",
    "- self.epochs_labels = epochs_labels\n",
    "- self.subj_nb = subj_nb\n",
    "- self.transform = transform\n",
    "#### It returns X, y"
   ]
  },
  {
   "cell_type": "code",
   "execution_count": 13,
   "id": "0c590579-2fe5-4931-a44c-0022d712e180",
   "metadata": {},
   "outputs": [],
   "source": [
    "from torch.utils.data import Dataset, ConcatDataset\n",
    "\n",
    "\n",
    "class EpochsDataset(Dataset):\n",
    "    \"\"\"Class to expose an MNE Epochs object as PyTorch dataset.\n",
    "    \n",
    "    Parameters\n",
    "    ----------\n",
    "    epochs_data : np.ndarray\n",
    "        The epochs data, shape (n_epochs, n_channels, n_times).\n",
    "    epochs_labels : np.ndarray\n",
    "        The epochs labels, shape (n_epochs,)\n",
    "    subj_nb: None | int\n",
    "        Subject number.\n",
    "    transform : callable | None\n",
    "        The function to eventually apply to each epoch\n",
    "        for preprocessing (e.g. scaling). Defaults to None.\n",
    "    \"\"\"\n",
    "    def __init__(self, epochs_data, epochs_labels, subj_nb, transform=None):\n",
    "        assert len(epochs_data) == len(epochs_labels)\n",
    "        self.epochs_data = epochs_data\n",
    "        self.epochs_labels = epochs_labels        \n",
    "        self.subj_nb = subj_nb\n",
    "        self.transform = transform\n",
    "\n",
    "    def __len__(self):\n",
    "        return len(self.epochs_labels)\n",
    "\n",
    "    def __getitem__(self, idx):\n",
    "        X, y = self.epochs_data[idx], self.epochs_labels[idx]\n",
    "        if self.transform is not None:\n",
    "            X = self.transform(X)\n",
    "        X = torch.as_tensor(X[None, ...])\n",
    "        return X, y\n",
    "    \n",
    "\n",
    "\n",
    "def scale(X):\n",
    "    \"\"\"Standard scaling of data along the last dimension.\n",
    "    \n",
    "    Parameters\n",
    "    ----------\n",
    "    X : array, shape (n_channels, n_times)\n",
    "        The input signals.\n",
    "        \n",
    "    Returns\n",
    "    -------\n",
    "    X_t : array, shape (n_channels, n_times)\n",
    "        The scaled signals.\n",
    "    \"\"\"\n",
    "    X -= np.mean(X, axis=1, keepdims=True)\n",
    "    return X / np.std(X, axis=1, keepdims=True)"
   ]
  },
  {
   "cell_type": "code",
   "execution_count": 14,
   "id": "eaedbc48-268b-4ea3-bc1f-2e8c847bd6d8",
   "metadata": {},
   "outputs": [],
   "source": [
    "# Apply windowing and move to pytorch dataset\n",
    "all_datasets = [EpochsDataset(*extract_epochs(raw), subj_nb=raw.info['subject_info']['id'], transform=scale) for raw in raws_analysis_1]\n",
    "\n",
    "# Concatenate into a single dataset\n",
    "dataset = ConcatDataset(all_datasets)"
   ]
  },
  {
   "cell_type": "code",
   "execution_count": 15,
   "id": "7120dae1-cd53-4801-a33a-2357a51a0e24",
   "metadata": {},
   "outputs": [
    {
     "data": {
      "text/plain": [
       "53"
      ]
     },
     "execution_count": 15,
     "metadata": {},
     "output_type": "execute_result"
    }
   ],
   "source": [
    "len(dataset.datasets) #each subject has an epoch object as a dataset"
   ]
  },
  {
   "cell_type": "markdown",
   "id": "4bd7e86b-f043-4423-b4a6-730a599ecddc",
   "metadata": {},
   "source": [
    "If I want to get the subject number of each epochdataset, call x.subj_nb"
   ]
  },
  {
   "cell_type": "code",
   "execution_count": 16,
   "id": "0cab80bb-16d6-48a1-9867-d7d75feea170",
   "metadata": {},
   "outputs": [],
   "source": [
    "# for x in dataset.datasets:\n",
    "#     print(x.subj_nb)"
   ]
  },
  {
   "cell_type": "code",
   "execution_count": 17,
   "id": "0d47897c-d211-4eb0-90ca-716293f2f2a4",
   "metadata": {},
   "outputs": [
    {
     "data": {
      "text/plain": [
       "torch.utils.data.dataset.ConcatDataset"
      ]
     },
     "execution_count": 17,
     "metadata": {},
     "output_type": "execute_result"
    }
   ],
   "source": [
    "type(dataset)"
   ]
  },
  {
   "cell_type": "markdown",
   "id": "b569f007-9fc7-4cfd-b5bb-350d2dec767d",
   "metadata": {},
   "source": [
    "## 2. Dataset Preparation"
   ]
  },
  {
   "cell_type": "markdown",
   "id": "42418d4e-f847-4cd8-b65e-cdb5f71ca01a",
   "metadata": {},
   "source": [
    "### 2.1 Pick datasets based on subject number\n",
    "\n",
    "Pick datasets based on subject number. Then we have:\n",
    "\n",
    "- picked dataset (ConcatDataset)\n",
    "- remained dataset (ConcatDataset)."
   ]
  },
  {
   "cell_type": "markdown",
   "id": "182c1343-fde5-4b1f-8ad6-e1e6520eab38",
   "metadata": {},
   "source": [
    "### Subject info and index relationship: all_idx"
   ]
  },
  {
   "cell_type": "code",
   "execution_count": 18,
   "id": "46046806-7b70-449a-a81d-356ece8684d0",
   "metadata": {},
   "outputs": [],
   "source": [
    "#pick_idx, e.g. [(47, '300'), (48, '301'), (49, '302'), (50, '303'), (51, '304'), (52, '305')]\n",
    "#(47, '300'): 47 is the num of the subject, '300' is the subject_info.id.\n",
    "\n",
    "# pick_nb = ['300','301', '302', '303', '304', '305']\n",
    "# pick_idx = []\n",
    "# for subj_nb in pick_nb:\n",
    "#     for i, ds in enumerate(dataset.datasets):\n",
    "#         if (ds.subj_nb == subj_nb):\n",
    "#             pick_idx.append((i,subj_nb))\n",
    "\n",
    "all_idx = []\n",
    "for i,raw in enumerate(raws_analysis_1): \n",
    "    subj_nb = list(raw.info[\"subject_info\"].values())[0]\n",
    "    all_idx.append((i,subj_nb))\n",
    "\n",
    "\n",
    "# remaining_idx = [x for x in all_idx if x not in pick_idx]\n",
    "# len(remaining_idx)"
   ]
  },
  {
   "cell_type": "markdown",
   "id": "1cf7d911-b88e-4340-91ca-def3a663e78b",
   "metadata": {},
   "source": [
    "Now we get the pick_ds, remaining_ds"
   ]
  },
  {
   "cell_type": "code",
   "execution_count": 19,
   "id": "593d2681-47a0-4238-a722-288a99708e80",
   "metadata": {},
   "outputs": [],
   "source": [
    "# pick_ds = ConcatDataset([dataset.datasets[i] for i,subj_nb in pick_idx])\n",
    "# if len(remaining_idx) > 0:\n",
    "#     remaining_ds = ConcatDataset(\n",
    "#         [dataset.datasets[i] for i,subj_nb in remaining_idx])\n",
    "# else:\n",
    "#     remaining_ds = None"
   ]
  },
  {
   "cell_type": "code",
   "execution_count": 20,
   "id": "d03d469c-9416-470b-9d3a-8222609a75cd",
   "metadata": {},
   "outputs": [],
   "source": [
    "# print(len(pick_ds), len(remaining_ds))\n",
    "# print('Number of epochs in each dataset.')"
   ]
  },
  {
   "cell_type": "markdown",
   "id": "11cbb00d-99fe-4e59-892b-6bf04d7360de",
   "metadata": {},
   "source": [
    "#### Pick recordings based on subject numbers (file names, e.g. 300.edf):"
   ]
  },
  {
   "cell_type": "code",
   "execution_count": 21,
   "id": "ade5d602-bc11-4d63-a054-b697ec5703f7",
   "metadata": {},
   "outputs": [],
   "source": [
    "def pick_subject_recordings(dataset, subject_numbers):\n",
    "    \"\"\"Pick recordings using subject and recording numbers.\n",
    "    \n",
    "    Parameters\n",
    "    ----------\n",
    "    dataset : ConcatDataset\n",
    "        The dataset to pick recordings from.        \n",
    "    subject_numbers : list of file numbers, e.g, ['300','301', '302', '303', '304', '305']\n",
    "        \n",
    "    Returns\n",
    "    -------\n",
    "    ConcatDataset\n",
    "        The picked recordings.\n",
    "    ConcatDataset | None\n",
    "        The remaining recordings. None if all recordings from \n",
    "        `dataset` were picked.\n",
    "    \"\"\"\n",
    "\n",
    "    #pick_indx: list of tuples (i,subj_nb)\n",
    "    pick_idx = list()\n",
    "    for subj_nb in subject_numbers:\n",
    "        for i, ds in enumerate(dataset.datasets):\n",
    "            if (ds.subj_nb == subj_nb):\n",
    "                pick_idx.append((i,subj_nb))\n",
    "    #all_idx: get tuples from all subjects\n",
    "    all_idx = list()\n",
    "    for i,raw in enumerate(raws_analysis_1): \n",
    "        subj_nb = list(raw.info[\"subject_info\"].values())[0]\n",
    "        all_idx.append((i,subj_nb))\n",
    "    \n",
    "    remaining_idx = [x for x in all_idx if x not in pick_idx]\n",
    "\n",
    "    #Select datasets based on pick_idx\n",
    "    pick_ds = ConcatDataset([dataset.datasets[i] for i,subj_nb in pick_idx])\n",
    "    if len(remaining_idx) > 0:\n",
    "        remaining_ds = ConcatDataset(\n",
    "            [dataset.datasets[i] for i,subj_nb in remaining_idx])\n",
    "    else:\n",
    "        remaining_ds = None\n",
    "        \n",
    "    return pick_ds, remaining_ds"
   ]
  },
  {
   "cell_type": "markdown",
   "id": "60eda693-720f-40f7-9c07-25f5219f3acf",
   "metadata": {},
   "source": [
    "### 2.2 Train test split\n",
    "\n",
    "Used Leave P groups out cross-validator.\n",
    "\n",
    "- LeavePGroupsOut: builds the test sets with all the samples assigned to p different values of the groups"
   ]
  },
  {
   "cell_type": "code",
   "execution_count": 22,
   "id": "b343c331-d7e6-4aab-84f6-0a10908c7001",
   "metadata": {},
   "outputs": [],
   "source": [
    "#Return training dataset and testing dataset\n",
    "\n",
    "from sklearn.model_selection import LeavePGroupsOut\n",
    "def train_test_split(dataset, n_groups, split_by='subj_nb'):\n",
    "    \"\"\"Split dataset into train and test keeping n_groups out in test.\n",
    "    \n",
    "    Parameters\n",
    "    ----------\n",
    "    dataset : ConcatDataset\n",
    "        The dataset to split.\n",
    "    n_groups : int\n",
    "        The number of groups to leave out.\n",
    "    split_by : 'subj_nb'\n",
    "        Property to use to split dataset.\n",
    "        \n",
    "    Returns\n",
    "    -------\n",
    "    ConcatDataset\n",
    "        The training data.\n",
    "    ConcatDataset\n",
    "        The testing data.\n",
    "    \"\"\"\n",
    "    groups = [getattr(ds, split_by) for ds in dataset.datasets]  #get all subject numbers\n",
    "    #Cross validation\n",
    "    train_idx, test_idx = next(\n",
    "        LeavePGroupsOut(n_groups).split(X=groups, groups=groups))\n",
    "\n",
    "    train_ds = ConcatDataset([dataset.datasets[i] for i in train_idx])\n",
    "    test_ds = ConcatDataset([dataset.datasets[i] for i in test_idx])\n",
    "        \n",
    "    return train_ds, test_ds"
   ]
  },
  {
   "cell_type": "code",
   "execution_count": null,
   "id": "25d5bd51-300e-482f-9041-e73f4f5d100a",
   "metadata": {},
   "outputs": [],
   "source": []
  },
  {
   "cell_type": "code",
   "execution_count": 23,
   "id": "d909cb16-f6b1-4b87-9d58-69586261cb0c",
   "metadata": {},
   "outputs": [],
   "source": [
    "import torch\n",
    "# We seed the random number generators to make our splits reproducible\n",
    "torch.manual_seed(87)\n",
    "np.random.seed(87)"
   ]
  },
  {
   "cell_type": "markdown",
   "id": "2bc70a63-721e-4c38-b033-a80bb5158584",
   "metadata": {},
   "source": [
    "Get test dataset, train dataset."
   ]
  },
  {
   "cell_type": "code",
   "execution_count": 24,
   "id": "ffc326da-bc7b-49f9-ad8d-f0f35a92c74c",
   "metadata": {},
   "outputs": [
    {
     "name": "stdout",
     "output_type": "stream",
     "text": [
      "Number of epochs of test_ds + train_ds is: 29612\n",
      "Number of total epochs of dataset is: 29612\n"
     ]
    }
   ],
   "source": [
    "# Use recording 1 of subjects 0-9 as test set\n",
    "test_nums = ['300','301', '302', '303', '304', '305']\n",
    "test_ds, train_ds = pick_subject_recordings(dataset, test_nums)\n",
    "\n",
    "print(\"Number of epochs of test_ds + train_ds is:\", len(test_ds)+len(train_ds))\n",
    "print(\"Number of total epochs of dataset is:\", len(dataset))"
   ]
  },
  {
   "cell_type": "markdown",
   "id": "29f4c15f-c944-4a53-8fa0-2508bb57b55b",
   "metadata": {},
   "source": [
    "Get validation dataset from train dataset, then we have train_ds, valid_ds. <br>\n",
    "\n",
    "- leave 'n_subjects_valid' groups out."
   ]
  },
  {
   "cell_type": "code",
   "execution_count": 25,
   "id": "08eaa1dc-fe6f-41ed-aad0-210f88453276",
   "metadata": {},
   "outputs": [
    {
     "name": "stdout",
     "output_type": "stream",
     "text": [
      "Number of examples in each set:\n",
      "Training: 21166\n",
      "Validation: 2745\n",
      "Test: 5701\n"
     ]
    }
   ],
   "source": [
    "n_subjects_valid = int(len(test_ds.datasets))\n",
    "train_ds, valid_ds = train_test_split(train_ds, n_subjects_valid, split_by='subj_nb')\n",
    "\n",
    "print('Number of examples in each set:')\n",
    "print(f'Training: {len(train_ds)}')\n",
    "print(f'Validation: {len(valid_ds)}')\n",
    "print(f'Test: {len(test_ds)}')"
   ]
  },
  {
   "cell_type": "code",
   "execution_count": 26,
   "id": "ee6b2c11-90b1-43c2-a5ce-ddeb45171101",
   "metadata": {},
   "outputs": [
    {
     "name": "stdout",
     "output_type": "stream",
     "text": [
      "Number of subjects in valid dataset: 6\n"
     ]
    }
   ],
   "source": [
    "print('Number of subjects in valid dataset:', int(len(valid_ds.datasets)))"
   ]
  },
  {
   "cell_type": "markdown",
   "id": "4db12e73-09d0-49a6-8976-6ba8fb0c2a5f",
   "metadata": {},
   "source": [
    "#### Now we visualize Num of stages in training and testing dataset. <br>\n",
    "\n",
    "The classes_mapping is based on the ouput mapping the extract_epochs function."
   ]
  },
  {
   "cell_type": "code",
   "execution_count": 72,
   "id": "44663c87-af79-4e4f-a4d7-6527a6d31f9e",
   "metadata": {},
   "outputs": [
    {
     "data": {
      "image/png": "[encoded data removed]",
      "text/plain": [
       "<Figure size 640x480 with 1 Axes>"
      ]
     },
     "metadata": {},
     "output_type": "display_data"
    }
   ],
   "source": [
    "classes_mapping = {2: \"清醒1\", 1: \"AS1\", 0: \"QS1\"} #This mapping is based on the output of 'extract_epochs'\n",
    "y_train = pd.Series([y for _, y in train_ds]).map(classes_mapping)\n",
    "ax = y_train.value_counts().plot(kind='barh')\n",
    "ax.set_xlabel('Number of training examples');\n",
    "ax.set_ylabel('Sleep stage')\n",
    "pylab.show();"
   ]
  },
  {
   "cell_type": "code",
   "execution_count": 73,
   "id": "4a866da4-541d-4d51-9b0b-71bb3b9808a0",
   "metadata": {},
   "outputs": [
    {
     "data": {
      "image/png": "[encoded data removed]",
      "text/plain": [
       "<Figure size 640x480 with 1 Axes>"
      ]
     },
     "metadata": {},
     "output_type": "display_data"
    }
   ],
   "source": [
    "classes_mapping = {2: \"清醒1\", 1: \"AS1\", 0: \"QS1\"} #This mapping is based on the output of 'extract_epochs'\n",
    "y_train_test = pd.Series([y for _, y in test_ds]).map(classes_mapping)\n",
    "ax = y_train_test.value_counts().plot(kind='barh')\n",
    "ax.set_xlabel('Number of testing examples');\n",
    "ax.set_ylabel('Sleep stage')\n",
    "pylab.show();"
   ]
  },
  {
   "cell_type": "code",
   "execution_count": 76,
   "id": "7f866e2c-bd50-4e46-91a3-13d27cf50bbe",
   "metadata": {},
   "outputs": [
    {
     "data": {
      "text/plain": [
       "AS1    8798\n",
       "QS1    6282\n",
       "清醒1    6086\n",
       "Name: count, dtype: int64"
      ]
     },
     "execution_count": 76,
     "metadata": {},
     "output_type": "execute_result"
    }
   ],
   "source": [
    "y_train.value_counts()"
   ]
  },
  {
   "cell_type": "markdown",
   "id": "c146f037-33dd-4c60-bbdc-99e8d7bf87b9",
   "metadata": {},
   "source": [
    "There is a class imbalance. <br>\n",
    "During training, we'd like to give more weight to examples from rarer classes when computing the loss."
   ]
  },
  {
   "cell_type": "code",
   "execution_count": 28,
   "id": "b9d3ad27-d06f-4191-8eb1-bb837345823a",
   "metadata": {},
   "outputs": [
    {
     "name": "stdout",
     "output_type": "stream",
     "text": [
      "[1.12310305 0.80192468 1.15927265]\n"
     ]
    }
   ],
   "source": [
    "# Computing class weight\n",
    "from sklearn.utils.class_weight import compute_class_weight\n",
    "\n",
    "train_y = np.concatenate([ds.epochs_labels for ds in train_ds.datasets])\n",
    "class_weights = compute_class_weight('balanced', classes=np.unique(train_y), y=train_y)\n",
    "print(class_weights)"
   ]
  },
  {
   "cell_type": "markdown",
   "id": "80d5659a-c076-42a9-a256-a59ce3f4d93e",
   "metadata": {},
   "source": [
    "## 3. Modeling"
   ]
  },
  {
   "cell_type": "markdown",
   "id": "0f3f24d1-83aa-4534-a2c7-0a2bd8a03899",
   "metadata": {
    "jp-MarkdownHeadingCollapsed": true
   },
   "source": [
    "### 3.1 CNN model"
   ]
  },
  {
   "cell_type": "code",
   "execution_count": 29,
   "id": "7bd7b121-7422-47ee-bbcc-55b0521cc986",
   "metadata": {},
   "outputs": [],
   "source": [
    "from torch import nn\n",
    "\n",
    "\n",
    "class SleepStagerChambon2018(nn.Module):\n",
    "    \"\"\"Sleep staging architecture from [1]_.\n",
    "    \n",
    "    Convolutional neural network for sleep staging described in [1]_.\n",
    "    \n",
    "    Parameters\n",
    "    ----------\n",
    "    n_channels : int\n",
    "        Number of EEG channels.\n",
    "    sfreq : float\n",
    "        EEG sampling frequency.\n",
    "    n_conv_chs : int\n",
    "        Number of convolutional channels. Set to 8 in [1]_.\n",
    "    time_conv_size_s : float\n",
    "        Size of filters in temporal convolution layers, in seconds. Set to 0.5\n",
    "        in [1]_ (64 samples at sfreq=128).\n",
    "    max_pool_size_s : float\n",
    "        Max pooling size, in seconds. Set to 0.125 in [1]_ (16 samples at\n",
    "        sfreq=128).\n",
    "    n_classes : int\n",
    "        Number of classes.\n",
    "    input_size_s : float\n",
    "        Size of the input, in seconds.\n",
    "    dropout : float\n",
    "        Dropout rate before the output dense layer.\n",
    "        \n",
    "    References\n",
    "    ----------\n",
    "    .. [1] Chambon, S., Galtier, M. N., Arnal, P. J., Wainrib, G., &\n",
    "           Gramfort, A. (2018). A deep learning architecture for temporal sleep\n",
    "           stage classification using multivariate and multimodal time series.\n",
    "           IEEE Transactions on Neural Systems and Rehabilitation Engineering,\n",
    "           26(4), 758-769.\n",
    "    \"\"\"\n",
    "    def __init__(self, n_channels, sfreq, n_conv_chs=8, time_conv_size_s=0.5,\n",
    "                 max_pool_size_s=0.125, n_classes=3, input_size_s=30,\n",
    "                 dropout=0.25):\n",
    "        super().__init__()\n",
    "\n",
    "        time_conv_size = int(time_conv_size_s * sfreq)\n",
    "        max_pool_size = int(max_pool_size_s * sfreq)\n",
    "        input_size = int(input_size_s * sfreq)\n",
    "        pad_size = time_conv_size // 2\n",
    "        self.n_channels = n_channels\n",
    "        len_last_layer = self._len_last_layer(\n",
    "            n_channels, input_size, max_pool_size, n_conv_chs)\n",
    "\n",
    "        if n_channels > 1:\n",
    "            self.spatial_conv = nn.Conv2d(1, n_channels, (n_channels, 1))\n",
    "\n",
    "        self.feature_extractor = nn.Sequential(\n",
    "            nn.Conv2d(\n",
    "                1, n_conv_chs, (1, time_conv_size), padding=(0, pad_size)),\n",
    "            nn.ReLU(),\n",
    "            nn.MaxPool2d((1, max_pool_size)),\n",
    "            nn.Conv2d(\n",
    "                n_conv_chs, n_conv_chs, (1, time_conv_size),\n",
    "                padding=(0, pad_size)),\n",
    "            nn.ReLU(),\n",
    "            nn.MaxPool2d((1, max_pool_size))\n",
    "        )\n",
    "        self.fc = nn.Sequential(\n",
    "            nn.Dropout(dropout),\n",
    "            nn.Linear(len_last_layer, n_classes)\n",
    "        )\n",
    "\n",
    "    @staticmethod\n",
    "    def _len_last_layer(n_channels, input_size, max_pool_size, n_conv_chs):\n",
    "        return n_channels * (input_size // (max_pool_size ** 2)) * n_conv_chs\n",
    "\n",
    "    def forward(self, x):\n",
    "        \"\"\"Forward pass.\n",
    "        \n",
    "        Parameters\n",
    "        ---------\n",
    "        x: torch.Tensor\n",
    "            Batch of EEG windows of shape (batch_size, n_channels, n_times).\n",
    "        \"\"\"\n",
    "        if self.n_channels > 1:\n",
    "            x = self.spatial_conv(x)\n",
    "            x = x.transpose(1, 2)\n",
    "\n",
    "        x = self.feature_extractor(x)\n",
    "        return self.fc(x.flatten(start_dim=1))"
   ]
  },
  {
   "cell_type": "markdown",
   "id": "682e6c73-336c-438b-813e-4a65d70c3cf4",
   "metadata": {},
   "source": [
    "### 3.2 Load the data and model."
   ]
  },
  {
   "cell_type": "code",
   "execution_count": 30,
   "id": "37032597-9144-415f-8650-909e25384839",
   "metadata": {},
   "outputs": [],
   "source": [
    "raws = raws_analysis_1"
   ]
  },
  {
   "cell_type": "code",
   "execution_count": 31,
   "id": "e4aea14a-c6c1-442e-b599-8e15ef46d9f9",
   "metadata": {},
   "outputs": [],
   "source": [
    "sfreq = raws[0].info['sfreq']  # Sampling frequency\n",
    "n_channels = raws[0].info['nchan']  # Number of channels\n",
    "\n",
    "model = SleepStagerChambon2018(n_channels, sfreq, n_classes=3)"
   ]
  },
  {
   "cell_type": "code",
   "execution_count": 32,
   "id": "a07f0d72-71d8-4c2c-b01b-a058b5249f73",
   "metadata": {},
   "outputs": [
    {
     "name": "stdout",
     "output_type": "stream",
     "text": [
      "Using device 'cuda'.\n"
     ]
    }
   ],
   "source": [
    "device = torch.device('cuda' if torch.cuda.is_available() else 'cpu')\n",
    "print(f'Using device \\'{device}\\'.')\n",
    "model = model.to(device)"
   ]
  },
  {
   "cell_type": "code",
   "execution_count": 33,
   "id": "23b3a3a8-1758-4da4-a8f9-b24074eaa13e",
   "metadata": {},
   "outputs": [],
   "source": [
    "from torch.utils.data import DataLoader\n",
    "\n",
    "# Create dataloaders\n",
    "train_batch_size = 128  # Important hyperparameter\n",
    "valid_batch_size = 256  # Can be made as large as what fits in memory; won't impact performance\n",
    "num_workers = 0  # Number of processes to use for the data loading process; 0 is the main Python process\n",
    "\n",
    "loader_train = DataLoader(\n",
    "    train_ds, batch_size=train_batch_size, shuffle=True, num_workers=num_workers)\n",
    "loader_valid = DataLoader(\n",
    "    valid_ds, batch_size=valid_batch_size, shuffle=False, num_workers=num_workers)\n",
    "loader_test = DataLoader(\n",
    "    test_ds, batch_size=valid_batch_size, shuffle=False, num_workers=num_workers)"
   ]
  },
  {
   "cell_type": "code",
   "execution_count": 34,
   "id": "853de652-32af-4968-b511-16f9143a9509",
   "metadata": {},
   "outputs": [
    {
     "data": {
      "text/plain": [
       "23"
      ]
     },
     "execution_count": 34,
     "metadata": {},
     "output_type": "execute_result"
    }
   ],
   "source": [
    "len(loader_train)\n",
    "len(loader_valid)\n",
    "len(loader_test)"
   ]
  },
  {
   "cell_type": "code",
   "execution_count": 35,
   "id": "56885905-7b10-43d2-9d8c-9a9aff6b20bd",
   "metadata": {},
   "outputs": [],
   "source": [
    "from sklearn.metrics import balanced_accuracy_score, cohen_kappa_score, roc_auc_score\n",
    "\n",
    "def _do_train(model, loader, optimizer, criterion, device, metric):\n",
    "    # training loop\n",
    "    model.train()\n",
    "    \n",
    "    train_loss = np.zeros(len(loader))\n",
    "    y_pred_all, y_true_all = list(), list()\n",
    "    for idx_batch, (batch_x, batch_y) in enumerate(loader):\n",
    "        optimizer.zero_grad()\n",
    "        batch_x = batch_x.to(device=device, dtype=torch.float32)\n",
    "        batch_y = batch_y.to(device=device, dtype=torch.int64)\n",
    "\n",
    "        output = model(batch_x)\n",
    "        loss = criterion(output, batch_y)\n",
    "\n",
    "        loss.backward()\n",
    "        optimizer.step()\n",
    "        \n",
    "        y_pred_all.append(torch.argmax(output, axis=1).cpu().numpy())\n",
    "        y_true_all.append(batch_y.cpu().numpy())\n",
    "\n",
    "        train_loss[idx_batch] = loss.item()\n",
    "        \n",
    "    y_pred = np.concatenate(y_pred_all)\n",
    "    y_true = np.concatenate(y_true_all)\n",
    "    perf = metric(y_true, y_pred)\n",
    "    \n",
    "    return np.mean(train_loss), perf\n",
    "        \n",
    "\n",
    "def _validate(model, loader, criterion, device, metric):\n",
    "    # validation loop\n",
    "    model.eval()\n",
    "    \n",
    "    val_loss = np.zeros(len(loader))\n",
    "    y_pred_all, y_true_all = list(), list()\n",
    "    with torch.no_grad():\n",
    "        for idx_batch, (batch_x, batch_y) in enumerate(loader):\n",
    "            batch_x = batch_x.to(device=device, dtype=torch.float32)\n",
    "            batch_y = batch_y.to(device=device, dtype=torch.int64)\n",
    "            output = model.forward(batch_x)\n",
    "\n",
    "            loss = criterion(output, batch_y)\n",
    "            val_loss[idx_batch] = loss.item()\n",
    "            \n",
    "            y_pred_all.append(torch.argmax(output, axis=1).cpu().numpy())\n",
    "            y_true_all.append(batch_y.cpu().numpy())\n",
    "            \n",
    "    y_pred = np.concatenate(y_pred_all)\n",
    "    y_true = np.concatenate(y_true_all)\n",
    "    perf = metric(y_true, y_pred)\n",
    "\n",
    "    return np.mean(val_loss), perf\n",
    "\n",
    "\n",
    "def train(model, loader_train, loader_valid, optimizer, criterion, n_epochs, \n",
    "          patience, device, metric=None):\n",
    "    \"\"\"Training function.\n",
    "    \n",
    "    Parameters\n",
    "    ----------\n",
    "    model : instance of nn.Module\n",
    "        The model.\n",
    "    loader_train : instance of Sampler\n",
    "        The generator of EEG samples the model has to train on.\n",
    "        It contains n_train samples\n",
    "    loader_valid : instance of Sampler\n",
    "        The generator of EEG samples the model has to validate on.\n",
    "        It contains n_val samples. The validation samples are used to\n",
    "        monitor the training process and to perform early stopping\n",
    "    optimizer : instance of optimizer\n",
    "        The optimizer to use for training.\n",
    "    n_epochs : int\n",
    "        The maximum of epochs to run.\n",
    "    patience : int\n",
    "        The patience parameter, i.e. how long to wait for the\n",
    "        validation error to go down.\n",
    "    metric : None | callable\n",
    "        Metric to use to evaluate performance on the training and\n",
    "        validation sets. Defaults to balanced accuracy.\n",
    "        \n",
    "    Returns\n",
    "    -------\n",
    "    best_model : instance of nn.Module\n",
    "        The model that led to the best prediction on the validation\n",
    "        dataset.\n",
    "    history : list of dicts\n",
    "        Training history (loss, accuracy, etc.)\n",
    "    \"\"\"\n",
    "    best_valid_loss = np.inf\n",
    "    best_model = copy.deepcopy(model)\n",
    "    waiting = 0\n",
    "    history = list()\n",
    "    \n",
    "    if metric is None:\n",
    "        metric = balanced_accuracy_score\n",
    "        \n",
    "    print('epoch \\t train_loss \\t valid_loss \\t train_perf \\t valid_perf')\n",
    "    print('-------------------------------------------------------------------')\n",
    "\n",
    "    for epoch in range(1, n_epochs + 1):\n",
    "        train_loss, train_perf = _do_train(\n",
    "            model, loader_train, optimizer, criterion, device, metric=metric)\n",
    "        valid_loss, valid_perf = _validate(\n",
    "            model, loader_valid, criterion, device, metric=metric)\n",
    "        history.append(\n",
    "            {'epoch': epoch, \n",
    "             'train_loss': train_loss, 'valid_loss': valid_loss,\n",
    "             'train_perf': train_perf, 'valid_perf': valid_perf})\n",
    "        \n",
    "        print(f'{epoch} \\t {train_loss:0.4f} \\t {valid_loss:0.4f} '\n",
    "              f'\\t {train_perf:0.4f} \\t {valid_perf:0.4f}')\n",
    "\n",
    "        # model saving\n",
    "        if valid_loss < best_valid_loss:\n",
    "            print(f'best val loss {best_valid_loss:.4f} -> {valid_loss:.4f}')\n",
    "            best_valid_loss = valid_loss\n",
    "            best_model = copy.deepcopy(model)\n",
    "            waiting = 0\n",
    "        else:\n",
    "            waiting += 1\n",
    "\n",
    "        # model early stopping\n",
    "        if waiting >= patience:\n",
    "            print(f'Stop training at epoch {epoch}')\n",
    "            print(f'Best val loss : {best_valid_loss:.4f}')\n",
    "            break\n",
    "\n",
    "    return best_model, history"
   ]
  },
  {
   "cell_type": "code",
   "execution_count": 36,
   "id": "b929d734-24a3-4749-8255-e86db17e80de",
   "metadata": {},
   "outputs": [],
   "source": [
    "import torch\n",
    "from torch.nn import CrossEntropyLoss\n",
    "from torch.optim import Adam\n",
    "\n",
    "optimizer = Adam(model.parameters(), lr=1e-3, weight_decay=0)\n",
    "criterion = CrossEntropyLoss(weight=torch.Tensor(class_weights).to(device)) #compute loss based on class_weights"
   ]
  },
  {
   "cell_type": "code",
   "execution_count": 37,
   "id": "3d9d14c9-3da0-4d2b-8c9c-5f1b5420dc17",
   "metadata": {},
   "outputs": [
    {
     "data": {
      "text/plain": [
       "tensor([1.1231, 0.8019, 1.1593], device='cuda:0')"
      ]
     },
     "execution_count": 37,
     "metadata": {},
     "output_type": "execute_result"
    }
   ],
   "source": [
    "torch.Tensor(class_weights).to(device)"
   ]
  },
  {
   "cell_type": "code",
   "execution_count": 38,
   "id": "ec7b6488-8469-4fd3-80a8-3dae5e9a0a28",
   "metadata": {
    "scrolled": true
   },
   "outputs": [],
   "source": [
    "# n_epochs = 50\n",
    "# patience = 10\n",
    "\n",
    "# best_model, history = train(\n",
    "#     model, loader_train, loader_valid, optimizer, criterion, n_epochs, patience, \n",
    "#     device, metric=cohen_kappa_score)"
   ]
  },
  {
   "cell_type": "markdown",
   "id": "da0a5b96-ca3a-4275-8266-31872827ebbb",
   "metadata": {},
   "source": [
    "### 3.3 save the model and load"
   ]
  },
  {
   "cell_type": "markdown",
   "id": "593bd119-05eb-45cd-ab13-184dfc32a0bf",
   "metadata": {},
   "source": [
    "#### Save and load the best model."
   ]
  },
  {
   "cell_type": "code",
   "execution_count": 39,
   "id": "34c96b7c-6108-4345-acce-0177573aefd2",
   "metadata": {},
   "outputs": [
    {
     "data": {
      "text/plain": [
       "SleepStagerChambon2018(\n",
       "  (spatial_conv): Conv2d(1, 12, kernel_size=(12, 1), stride=(1, 1))\n",
       "  (feature_extractor): Sequential(\n",
       "    (0): Conv2d(1, 8, kernel_size=(1, 250), stride=(1, 1), padding=(0, 125))\n",
       "    (1): ReLU()\n",
       "    (2): MaxPool2d(kernel_size=(1, 62), stride=(1, 62), padding=0, dilation=1, ceil_mode=False)\n",
       "    (3): Conv2d(8, 8, kernel_size=(1, 250), stride=(1, 1), padding=(0, 125))\n",
       "    (4): ReLU()\n",
       "    (5): MaxPool2d(kernel_size=(1, 62), stride=(1, 62), padding=0, dilation=1, ceil_mode=False)\n",
       "  )\n",
       "  (fc): Sequential(\n",
       "    (0): Dropout(p=0.25, inplace=False)\n",
       "    (1): Linear(in_features=288, out_features=3, bias=True)\n",
       "  )\n",
       ")"
      ]
     },
     "execution_count": 39,
     "metadata": {},
     "output_type": "execute_result"
    }
   ],
   "source": [
    "model_path = './saved model/3classes_epochs50_v2.pt'\n",
    "# torch.save(best_model, model_path)\n",
    "loaded_model = torch.load(model_path)\n",
    "loaded_model.cuda()"
   ]
  },
  {
   "cell_type": "markdown",
   "id": "66348fd0-5104-436e-bf33-34089599728c",
   "metadata": {},
   "source": [
    "#### Save and load the history."
   ]
  },
  {
   "cell_type": "code",
   "execution_count": 40,
   "id": "8a427202-e912-4b75-88d1-862dd3e84a46",
   "metadata": {},
   "outputs": [],
   "source": [
    "import pickle\n",
    "#Save the history\n",
    "history_path = './saved model/3classes_epochs50_v2.txt'\n",
    "# with open(history_path, \"wb\") as fp:\n",
    "#     pickle.dump(history, fp)"
   ]
  },
  {
   "cell_type": "code",
   "execution_count": 41,
   "id": "6c2c6a02-f603-4963-84fc-456062f9bfa6",
   "metadata": {},
   "outputs": [],
   "source": [
    "#load the history\n",
    "with open(history_path, 'rb') as fp:\n",
    "    loaded_history = pickle.load(fp)"
   ]
  },
  {
   "cell_type": "markdown",
   "id": "26010bf6-7cb3-4846-9a25-3e719534b5eb",
   "metadata": {},
   "source": [
    "## 4. evaluation"
   ]
  },
  {
   "cell_type": "markdown",
   "id": "2337d753-0856-4616-ac67-7876156dea4e",
   "metadata": {},
   "source": [
    "### 4.1 Visualize the training process."
   ]
  },
  {
   "cell_type": "code",
   "execution_count": 42,
   "id": "09c895f9-829b-487b-88f0-cd19384f377a",
   "metadata": {},
   "outputs": [
    {
     "data": {
      "image/png": "[encoded data removed]",
      "text/plain": [
       "<Figure size 640x480 with 1 Axes>"
      ]
     },
     "metadata": {},
     "output_type": "display_data"
    },
    {
     "data": {
      "image/png": "[encoded data removed]",
      "text/plain": [
       "<Figure size 640x480 with 1 Axes>"
      ]
     },
     "metadata": {},
     "output_type": "display_data"
    }
   ],
   "source": [
    "# Visualizing the learning curves epochs=10\n",
    "\n",
    "history_df = pd.DataFrame(loaded_history)\n",
    "ax1 = history_df.plot(x='epoch', y=['train_loss', 'valid_loss'], marker='o')\n",
    "ax1.set_ylabel('Loss')\n",
    "ax2 = history_df.plot(x='epoch', y=['train_perf', 'valid_perf'], marker='o')\n",
    "ax2.set_ylabel('Cohen\\'s kappa')\n",
    "pylab.show();"
   ]
  },
  {
   "cell_type": "markdown",
   "id": "300d583d-59ad-49ac-a860-407bec31a034",
   "metadata": {},
   "source": [
    "### 4.2 Metrics\n",
    "\n",
    "- best model: loaded_model\n",
    "- y_pred\n",
    "- y_true\n",
    "- rec_ids_test"
   ]
  },
  {
   "cell_type": "markdown",
   "id": "cfc2faa6-9b2d-4a2e-9733-99ac19103c82",
   "metadata": {},
   "source": [
    "#### Test"
   ]
  },
  {
   "cell_type": "code",
   "execution_count": 44,
   "id": "a7dd2505-39b2-4dd5-91c4-82e4faa0a67a",
   "metadata": {},
   "outputs": [
    {
     "name": "stdout",
     "output_type": "stream",
     "text": [
      "Test balanced accuracy: 53.4%\n",
      "Test accuracy: 53.7%\n",
      "Test Cohen's kappa: 29.0%\n"
     ]
    }
   ],
   "source": [
    "# Compute test performance\n",
    "from sklearn.metrics import balanced_accuracy_score, cohen_kappa_score, roc_auc_score, f1_score, recall_score, precision_score, fbeta_score,classification_report\n",
    "from sklearn.metrics import accuracy_score\n",
    "\n",
    "loaded_model.eval()\n",
    "\n",
    "y_pred_all, y_true_all = list(), list()\n",
    "for batch_x, batch_y in loader_test:\n",
    "    batch_x = batch_x.to(device=device, dtype=torch.float32)\n",
    "    batch_y = batch_y.to(device=device, dtype=torch.int64)\n",
    "    output = loaded_model.forward(batch_x)\n",
    "    y_pred_all.append(torch.argmax(output, axis=1).cpu().numpy())\n",
    "    y_true_all.append(batch_y.cpu().numpy())\n",
    "    \n",
    "y_pred = np.concatenate(y_pred_all)\n",
    "y_true = np.concatenate(y_true_all)\n",
    "rec_ids_test = np.concatenate(  # indicates which recording each example comes from\n",
    "    [[i] * len(ds) for i, ds in enumerate(test_ds.datasets)])\n",
    "\n",
    "#Compute the balanced accuracy and kappa\n",
    "test_bal_acc = balanced_accuracy_score(y_true, y_pred)\n",
    "test_kappa = cohen_kappa_score(y_true, y_pred)\n",
    "test_acc = accuracy_score(y_true, y_pred)\n",
    "\n",
    "\n",
    "labels = [0,1,2]\n",
    "target_names = ['QS', 'AS', 'Awake'] \n",
    "c_3test = classification_report(y_true, y_pred, labels=labels, target_names = target_names, output_dict = True)\n",
    "\n",
    "\n",
    "print(f'Test balanced accuracy: {test_bal_acc:.1%}')\n",
    "print(f'Test accuracy: {test_acc:.1%}')\n",
    "print(f'Test Cohen\\'s kappa: {test_kappa:.1%}')"
   ]
  },
  {
   "cell_type": "code",
   "execution_count": 45,
   "id": "36850b5a-4f36-4ab1-8d7a-bf327493962f",
   "metadata": {},
   "outputs": [
    {
     "data": {
      "text/plain": [
       "5701"
      ]
     },
     "execution_count": 45,
     "metadata": {},
     "output_type": "execute_result"
    }
   ],
   "source": [
    "len(rec_ids_test)"
   ]
  },
  {
   "cell_type": "markdown",
   "id": "6fcc0fa3-5498-4daf-8ace-71a4bdd91c9a",
   "metadata": {},
   "source": [
    "#### Train"
   ]
  },
  {
   "cell_type": "code",
   "execution_count": 48,
   "id": "21999221-8998-437b-ac45-eaca1070aad6",
   "metadata": {},
   "outputs": [
    {
     "name": "stdout",
     "output_type": "stream",
     "text": [
      "Train balanced accuracy: 77.1%\n",
      "Train Cohen's kappa: 64.8%\n"
     ]
    }
   ],
   "source": [
    "# Compute training data performance\n",
    "\n",
    "y_pred_train, y_true_train = list(), list()\n",
    "for batch_x, batch_y in loader_train:\n",
    "    batch_x = batch_x.to(device=device, dtype=torch.float32)\n",
    "    batch_y = batch_y.to(device=device, dtype=torch.int64)\n",
    "    output = loaded_model.forward(batch_x)\n",
    "    y_pred_train.append(torch.argmax(output, axis=1).cpu().numpy())\n",
    "    y_true_train.append(batch_y.cpu().numpy())\n",
    "    \n",
    "y_pred_train_all = np.concatenate(y_pred_train)\n",
    "y_true_train_all = np.concatenate(y_true_train)\n",
    "rec_ids_train = np.concatenate(  # indicates which recording each example comes from\n",
    "    [[i] * len(ds) for i, ds in enumerate(train_ds.datasets)])\n",
    "\n",
    "train_bal_acc = balanced_accuracy_score(y_true_train_all, y_pred_train_all)\n",
    "train_kappa = cohen_kappa_score(y_true_train_all, y_pred_train_all)\n",
    "\n",
    "labels = [0,1,2]\n",
    "target_names = ['QS', 'AS', 'Awake'] \n",
    "c_3train = classification_report(y_true_train_all, y_pred_train_all, labels=labels, target_names = target_names, output_dict = True)\n",
    "\n",
    "\n",
    "print(f'Train balanced accuracy: {train_bal_acc:.1%}')\n",
    "print(f'Train Cohen\\'s kappa: {train_kappa:.1%}')"
   ]
  },
  {
   "cell_type": "markdown",
   "id": "e5adf2ce-b0b2-441c-b162-ad9864aefdcf",
   "metadata": {},
   "source": [
    "#### Valid"
   ]
  },
  {
   "cell_type": "code",
   "execution_count": 49,
   "id": "25d36027-b713-4b6b-bcf0-384b13aae8cc",
   "metadata": {},
   "outputs": [
    {
     "name": "stdout",
     "output_type": "stream",
     "text": [
      "Valid balanced accuracy: 69.9%\n",
      "Valid Cohen's kappa: 55.6%\n"
     ]
    }
   ],
   "source": [
    "# Compute validation dataset performance\n",
    "\n",
    "y_pred_valid, y_true_valid = list(), list()\n",
    "for batch_x, batch_y in loader_valid:\n",
    "    batch_x = batch_x.to(device=device, dtype=torch.float32)\n",
    "    batch_y = batch_y.to(device=device, dtype=torch.int64)\n",
    "    output = loaded_model.forward(batch_x)\n",
    "    y_pred_valid.append(torch.argmax(output, axis=1).cpu().numpy())\n",
    "    y_true_valid.append(batch_y.cpu().numpy())\n",
    "    \n",
    "y_pred_valid_all = np.concatenate(y_pred_valid)\n",
    "y_true_valid_all = np.concatenate(y_true_valid)\n",
    "rec_ids_valid = np.concatenate(  # indicates which recording each example comes from\n",
    "    [[i] * len(ds) for i, ds in enumerate(valid_ds.datasets)])\n",
    "\n",
    "valid_bal_acc = balanced_accuracy_score(y_true_valid_all, y_pred_valid_all)\n",
    "valid_kappa = cohen_kappa_score(y_true_valid_all, y_pred_valid_all)\n",
    "\n",
    "labels = [0,1,2]\n",
    "target_names = ['QS', 'AS', 'Awake'] \n",
    "c_3valid = classification_report(y_true_valid_all, y_pred_valid_all, labels=labels, target_names = target_names, output_dict = True)\n",
    "\n",
    "\n",
    "print(f'Valid balanced accuracy: {valid_bal_acc:.1%}')\n",
    "print(f'Valid Cohen\\'s kappa: {valid_kappa:.1%}')"
   ]
  },
  {
   "cell_type": "markdown",
   "id": "b41be4bc-60be-46d8-bfa2-f31923e49a10",
   "metadata": {},
   "source": [
    "### Per subject performance"
   ]
  },
  {
   "cell_type": "code",
   "execution_count": 50,
   "id": "2209df1a-dec9-43d5-9da3-7ca9bdadc38c",
   "metadata": {},
   "outputs": [
    {
     "data": {
      "text/plain": [
       "5701"
      ]
     },
     "execution_count": 50,
     "metadata": {},
     "output_type": "execute_result"
    }
   ],
   "source": [
    "len(rec_ids_test)"
   ]
  },
  {
   "cell_type": "code",
   "execution_count": 71,
   "id": "55fbbb98-be7d-4532-bf5a-f802e7037855",
   "metadata": {},
   "outputs": [
    {
     "ename": "ValueError",
     "evalue": "Length of values (5701) does not match length of index (1389)",
     "output_type": "error",
     "traceback": [
      "\u001b[1;31m---------------------------------------------------------------------------\u001b[0m",
      "\u001b[1;31mValueError\u001b[0m                                Traceback (most recent call last)",
      "Cell \u001b[1;32mIn[71], line 5\u001b[0m\n\u001b[0;32m      1\u001b[0m df_test \u001b[38;5;241m=\u001b[39m pd\u001b[38;5;241m.\u001b[39mDataFrame({\u001b[38;5;124m'\u001b[39m\u001b[38;5;124mtrue\u001b[39m\u001b[38;5;124m'\u001b[39m: y_true, \u001b[38;5;124m'\u001b[39m\u001b[38;5;124mprediction\u001b[39m\u001b[38;5;124m'\u001b[39m: y_pred})\n\u001b[0;32m      2\u001b[0m \u001b[38;5;66;03m# df_train = pd.DataFrame({'true': y_pred_train_all, 'prediction': y_true_train_all})\u001b[39;00m\n\u001b[0;32m      3\u001b[0m \u001b[38;5;66;03m# df_valid = pd.DataFrame({'true': y_pred_valid_all, 'prediction': y_true_valid_all})\u001b[39;00m\n\u001b[1;32m----> 5\u001b[0m \u001b[43mdf_test\u001b[49m\u001b[43m[\u001b[49m\u001b[38;5;124;43m'\u001b[39;49m\u001b[38;5;124;43msubj_index\u001b[39;49m\u001b[38;5;124;43m'\u001b[39;49m\u001b[43m]\u001b[49m \u001b[38;5;241m=\u001b[39m rec_ids_test\n",
      "File \u001b[1;32mD:\\Python\\Lib\\site-packages\\pandas\\core\\frame.py:4299\u001b[0m, in \u001b[0;36mDataFrame.__setitem__\u001b[1;34m(self, key, value)\u001b[0m\n\u001b[0;32m   4296\u001b[0m     \u001b[38;5;28mself\u001b[39m\u001b[38;5;241m.\u001b[39m_setitem_array([key], value)\n\u001b[0;32m   4297\u001b[0m \u001b[38;5;28;01melse\u001b[39;00m:\n\u001b[0;32m   4298\u001b[0m     \u001b[38;5;66;03m# set column\u001b[39;00m\n\u001b[1;32m-> 4299\u001b[0m     \u001b[38;5;28;43mself\u001b[39;49m\u001b[38;5;241;43m.\u001b[39;49m\u001b[43m_set_item\u001b[49m\u001b[43m(\u001b[49m\u001b[43mkey\u001b[49m\u001b[43m,\u001b[49m\u001b[43m \u001b[49m\u001b[43mvalue\u001b[49m\u001b[43m)\u001b[49m\n",
      "File \u001b[1;32mD:\\Python\\Lib\\site-packages\\pandas\\core\\frame.py:4512\u001b[0m, in \u001b[0;36mDataFrame._set_item\u001b[1;34m(self, key, value)\u001b[0m\n\u001b[0;32m   4502\u001b[0m \u001b[38;5;28;01mdef\u001b[39;00m \u001b[38;5;21m_set_item\u001b[39m(\u001b[38;5;28mself\u001b[39m, key, value) \u001b[38;5;241m-\u001b[39m\u001b[38;5;241m>\u001b[39m \u001b[38;5;28;01mNone\u001b[39;00m:\n\u001b[0;32m   4503\u001b[0m \u001b[38;5;250m    \u001b[39m\u001b[38;5;124;03m\"\"\"\u001b[39;00m\n\u001b[0;32m   4504\u001b[0m \u001b[38;5;124;03m    Add series to DataFrame in specified column.\u001b[39;00m\n\u001b[0;32m   4505\u001b[0m \n\u001b[1;32m   (...)\u001b[0m\n\u001b[0;32m   4510\u001b[0m \u001b[38;5;124;03m    ensure homogeneity.\u001b[39;00m\n\u001b[0;32m   4511\u001b[0m \u001b[38;5;124;03m    \"\"\"\u001b[39;00m\n\u001b[1;32m-> 4512\u001b[0m     value, refs \u001b[38;5;241m=\u001b[39m \u001b[38;5;28;43mself\u001b[39;49m\u001b[38;5;241;43m.\u001b[39;49m\u001b[43m_sanitize_column\u001b[49m\u001b[43m(\u001b[49m\u001b[43mvalue\u001b[49m\u001b[43m)\u001b[49m\n\u001b[0;32m   4514\u001b[0m     \u001b[38;5;28;01mif\u001b[39;00m (\n\u001b[0;32m   4515\u001b[0m         key \u001b[38;5;129;01min\u001b[39;00m \u001b[38;5;28mself\u001b[39m\u001b[38;5;241m.\u001b[39mcolumns\n\u001b[0;32m   4516\u001b[0m         \u001b[38;5;129;01mand\u001b[39;00m value\u001b[38;5;241m.\u001b[39mndim \u001b[38;5;241m==\u001b[39m \u001b[38;5;241m1\u001b[39m\n\u001b[0;32m   4517\u001b[0m         \u001b[38;5;129;01mand\u001b[39;00m \u001b[38;5;129;01mnot\u001b[39;00m \u001b[38;5;28misinstance\u001b[39m(value\u001b[38;5;241m.\u001b[39mdtype, ExtensionDtype)\n\u001b[0;32m   4518\u001b[0m     ):\n\u001b[0;32m   4519\u001b[0m         \u001b[38;5;66;03m# broadcast across multiple columns if necessary\u001b[39;00m\n\u001b[0;32m   4520\u001b[0m         \u001b[38;5;28;01mif\u001b[39;00m \u001b[38;5;129;01mnot\u001b[39;00m \u001b[38;5;28mself\u001b[39m\u001b[38;5;241m.\u001b[39mcolumns\u001b[38;5;241m.\u001b[39mis_unique \u001b[38;5;129;01mor\u001b[39;00m \u001b[38;5;28misinstance\u001b[39m(\u001b[38;5;28mself\u001b[39m\u001b[38;5;241m.\u001b[39mcolumns, MultiIndex):\n",
      "File \u001b[1;32mD:\\Python\\Lib\\site-packages\\pandas\\core\\frame.py:5253\u001b[0m, in \u001b[0;36mDataFrame._sanitize_column\u001b[1;34m(self, value)\u001b[0m\n\u001b[0;32m   5250\u001b[0m     \u001b[38;5;28;01mreturn\u001b[39;00m _reindex_for_setitem(value, \u001b[38;5;28mself\u001b[39m\u001b[38;5;241m.\u001b[39mindex)\n\u001b[0;32m   5252\u001b[0m \u001b[38;5;28;01mif\u001b[39;00m is_list_like(value):\n\u001b[1;32m-> 5253\u001b[0m     \u001b[43mcom\u001b[49m\u001b[38;5;241;43m.\u001b[39;49m\u001b[43mrequire_length_match\u001b[49m\u001b[43m(\u001b[49m\u001b[43mvalue\u001b[49m\u001b[43m,\u001b[49m\u001b[43m \u001b[49m\u001b[38;5;28;43mself\u001b[39;49m\u001b[38;5;241;43m.\u001b[39;49m\u001b[43mindex\u001b[49m\u001b[43m)\u001b[49m\n\u001b[0;32m   5254\u001b[0m arr \u001b[38;5;241m=\u001b[39m sanitize_array(value, \u001b[38;5;28mself\u001b[39m\u001b[38;5;241m.\u001b[39mindex, copy\u001b[38;5;241m=\u001b[39m\u001b[38;5;28;01mTrue\u001b[39;00m, allow_2d\u001b[38;5;241m=\u001b[39m\u001b[38;5;28;01mTrue\u001b[39;00m)\n\u001b[0;32m   5255\u001b[0m \u001b[38;5;28;01mif\u001b[39;00m (\n\u001b[0;32m   5256\u001b[0m     \u001b[38;5;28misinstance\u001b[39m(value, Index)\n\u001b[0;32m   5257\u001b[0m     \u001b[38;5;129;01mand\u001b[39;00m value\u001b[38;5;241m.\u001b[39mdtype \u001b[38;5;241m==\u001b[39m \u001b[38;5;124m\"\u001b[39m\u001b[38;5;124mobject\u001b[39m\u001b[38;5;124m\"\u001b[39m\n\u001b[1;32m   (...)\u001b[0m\n\u001b[0;32m   5260\u001b[0m     \u001b[38;5;66;03m# TODO: Remove kludge in sanitize_array for string mode when enforcing\u001b[39;00m\n\u001b[0;32m   5261\u001b[0m     \u001b[38;5;66;03m# this deprecation\u001b[39;00m\n",
      "File \u001b[1;32mD:\\Python\\Lib\\site-packages\\pandas\\core\\common.py:571\u001b[0m, in \u001b[0;36mrequire_length_match\u001b[1;34m(data, index)\u001b[0m\n\u001b[0;32m    567\u001b[0m \u001b[38;5;250m\u001b[39m\u001b[38;5;124;03m\"\"\"\u001b[39;00m\n\u001b[0;32m    568\u001b[0m \u001b[38;5;124;03mCheck the length of data matches the length of the index.\u001b[39;00m\n\u001b[0;32m    569\u001b[0m \u001b[38;5;124;03m\"\"\"\u001b[39;00m\n\u001b[0;32m    570\u001b[0m \u001b[38;5;28;01mif\u001b[39;00m \u001b[38;5;28mlen\u001b[39m(data) \u001b[38;5;241m!=\u001b[39m \u001b[38;5;28mlen\u001b[39m(index):\n\u001b[1;32m--> 571\u001b[0m     \u001b[38;5;28;01mraise\u001b[39;00m \u001b[38;5;167;01mValueError\u001b[39;00m(\n\u001b[0;32m    572\u001b[0m         \u001b[38;5;124m\"\u001b[39m\u001b[38;5;124mLength of values \u001b[39m\u001b[38;5;124m\"\u001b[39m\n\u001b[0;32m    573\u001b[0m         \u001b[38;5;124mf\u001b[39m\u001b[38;5;124m\"\u001b[39m\u001b[38;5;124m(\u001b[39m\u001b[38;5;132;01m{\u001b[39;00m\u001b[38;5;28mlen\u001b[39m(data)\u001b[38;5;132;01m}\u001b[39;00m\u001b[38;5;124m) \u001b[39m\u001b[38;5;124m\"\u001b[39m\n\u001b[0;32m    574\u001b[0m         \u001b[38;5;124m\"\u001b[39m\u001b[38;5;124mdoes not match length of index \u001b[39m\u001b[38;5;124m\"\u001b[39m\n\u001b[0;32m    575\u001b[0m         \u001b[38;5;124mf\u001b[39m\u001b[38;5;124m\"\u001b[39m\u001b[38;5;124m(\u001b[39m\u001b[38;5;132;01m{\u001b[39;00m\u001b[38;5;28mlen\u001b[39m(index)\u001b[38;5;132;01m}\u001b[39;00m\u001b[38;5;124m)\u001b[39m\u001b[38;5;124m\"\u001b[39m\n\u001b[0;32m    576\u001b[0m     )\n",
      "\u001b[1;31mValueError\u001b[0m: Length of values (5701) does not match length of index (1389)"
     ]
    }
   ],
   "source": [
    "df_test = pd.DataFrame({'true': y_true, 'prediction': y_pred})\n",
    "# df_train = pd.DataFrame({'true': y_pred_train_all, 'prediction': y_true_train_all})\n",
    "# df_valid = pd.DataFrame({'true': y_pred_valid_all, 'prediction': y_true_valid_all})\n",
    "\n",
    "df_test['subj_index'] = rec_ids_test"
   ]
  },
  {
   "cell_type": "code",
   "execution_count": 70,
   "id": "51447fde-4fad-4d08-a893-bf85178c6a30",
   "metadata": {},
   "outputs": [
    {
     "ename": "KeyError",
     "evalue": "'subj_index'",
     "output_type": "error",
     "traceback": [
      "\u001b[1;31m---------------------------------------------------------------------------\u001b[0m",
      "\u001b[1;31mKeyError\u001b[0m                                  Traceback (most recent call last)",
      "File \u001b[1;32mD:\\Python\\Lib\\site-packages\\pandas\\core\\indexes\\base.py:3802\u001b[0m, in \u001b[0;36mIndex.get_loc\u001b[1;34m(self, key)\u001b[0m\n\u001b[0;32m   3801\u001b[0m \u001b[38;5;28;01mtry\u001b[39;00m:\n\u001b[1;32m-> 3802\u001b[0m     \u001b[38;5;28;01mreturn\u001b[39;00m \u001b[38;5;28;43mself\u001b[39;49m\u001b[38;5;241;43m.\u001b[39;49m\u001b[43m_engine\u001b[49m\u001b[38;5;241;43m.\u001b[39;49m\u001b[43mget_loc\u001b[49m\u001b[43m(\u001b[49m\u001b[43mcasted_key\u001b[49m\u001b[43m)\u001b[49m\n\u001b[0;32m   3803\u001b[0m \u001b[38;5;28;01mexcept\u001b[39;00m \u001b[38;5;167;01mKeyError\u001b[39;00m \u001b[38;5;28;01mas\u001b[39;00m err:\n",
      "File \u001b[1;32mindex.pyx:153\u001b[0m, in \u001b[0;36mpandas._libs.index.IndexEngine.get_loc\u001b[1;34m()\u001b[0m\n",
      "File \u001b[1;32mindex.pyx:182\u001b[0m, in \u001b[0;36mpandas._libs.index.IndexEngine.get_loc\u001b[1;34m()\u001b[0m\n",
      "File \u001b[1;32mpandas\\\\_libs\\\\hashtable_class_helper.pxi:7081\u001b[0m, in \u001b[0;36mpandas._libs.hashtable.PyObjectHashTable.get_item\u001b[1;34m()\u001b[0m\n",
      "File \u001b[1;32mpandas\\\\_libs\\\\hashtable_class_helper.pxi:7089\u001b[0m, in \u001b[0;36mpandas._libs.hashtable.PyObjectHashTable.get_item\u001b[1;34m()\u001b[0m\n",
      "\u001b[1;31mKeyError\u001b[0m: 'subj_index'",
      "\nThe above exception was the direct cause of the following exception:\n",
      "\u001b[1;31mKeyError\u001b[0m                                  Traceback (most recent call last)",
      "Cell \u001b[1;32mIn[70], line 1\u001b[0m\n\u001b[1;32m----> 1\u001b[0m \u001b[38;5;28mset\u001b[39m(\u001b[43mdf_test\u001b[49m\u001b[43m[\u001b[49m\u001b[38;5;124;43m'\u001b[39;49m\u001b[38;5;124;43msubj_index\u001b[39;49m\u001b[38;5;124;43m'\u001b[39;49m\u001b[43m]\u001b[49m)\n",
      "File \u001b[1;32mD:\\Python\\Lib\\site-packages\\pandas\\core\\frame.py:4090\u001b[0m, in \u001b[0;36mDataFrame.__getitem__\u001b[1;34m(self, key)\u001b[0m\n\u001b[0;32m   4088\u001b[0m \u001b[38;5;28;01mif\u001b[39;00m \u001b[38;5;28mself\u001b[39m\u001b[38;5;241m.\u001b[39mcolumns\u001b[38;5;241m.\u001b[39mnlevels \u001b[38;5;241m>\u001b[39m \u001b[38;5;241m1\u001b[39m:\n\u001b[0;32m   4089\u001b[0m     \u001b[38;5;28;01mreturn\u001b[39;00m \u001b[38;5;28mself\u001b[39m\u001b[38;5;241m.\u001b[39m_getitem_multilevel(key)\n\u001b[1;32m-> 4090\u001b[0m indexer \u001b[38;5;241m=\u001b[39m \u001b[38;5;28;43mself\u001b[39;49m\u001b[38;5;241;43m.\u001b[39;49m\u001b[43mcolumns\u001b[49m\u001b[38;5;241;43m.\u001b[39;49m\u001b[43mget_loc\u001b[49m\u001b[43m(\u001b[49m\u001b[43mkey\u001b[49m\u001b[43m)\u001b[49m\n\u001b[0;32m   4091\u001b[0m \u001b[38;5;28;01mif\u001b[39;00m is_integer(indexer):\n\u001b[0;32m   4092\u001b[0m     indexer \u001b[38;5;241m=\u001b[39m [indexer]\n",
      "File \u001b[1;32mD:\\Python\\Lib\\site-packages\\pandas\\core\\indexes\\base.py:3809\u001b[0m, in \u001b[0;36mIndex.get_loc\u001b[1;34m(self, key)\u001b[0m\n\u001b[0;32m   3804\u001b[0m     \u001b[38;5;28;01mif\u001b[39;00m \u001b[38;5;28misinstance\u001b[39m(casted_key, \u001b[38;5;28mslice\u001b[39m) \u001b[38;5;129;01mor\u001b[39;00m (\n\u001b[0;32m   3805\u001b[0m         \u001b[38;5;28misinstance\u001b[39m(casted_key, abc\u001b[38;5;241m.\u001b[39mIterable)\n\u001b[0;32m   3806\u001b[0m         \u001b[38;5;129;01mand\u001b[39;00m \u001b[38;5;28many\u001b[39m(\u001b[38;5;28misinstance\u001b[39m(x, \u001b[38;5;28mslice\u001b[39m) \u001b[38;5;28;01mfor\u001b[39;00m x \u001b[38;5;129;01min\u001b[39;00m casted_key)\n\u001b[0;32m   3807\u001b[0m     ):\n\u001b[0;32m   3808\u001b[0m         \u001b[38;5;28;01mraise\u001b[39;00m InvalidIndexError(key)\n\u001b[1;32m-> 3809\u001b[0m     \u001b[38;5;28;01mraise\u001b[39;00m \u001b[38;5;167;01mKeyError\u001b[39;00m(key) \u001b[38;5;28;01mfrom\u001b[39;00m \u001b[38;5;21;01merr\u001b[39;00m\n\u001b[0;32m   3810\u001b[0m \u001b[38;5;28;01mexcept\u001b[39;00m \u001b[38;5;167;01mTypeError\u001b[39;00m:\n\u001b[0;32m   3811\u001b[0m     \u001b[38;5;66;03m# If we have a listlike key, _check_indexing_error will raise\u001b[39;00m\n\u001b[0;32m   3812\u001b[0m     \u001b[38;5;66;03m#  InvalidIndexError. Otherwise we fall through and re-raise\u001b[39;00m\n\u001b[0;32m   3813\u001b[0m     \u001b[38;5;66;03m#  the TypeError.\u001b[39;00m\n\u001b[0;32m   3814\u001b[0m     \u001b[38;5;28mself\u001b[39m\u001b[38;5;241m.\u001b[39m_check_indexing_error(key)\n",
      "\u001b[1;31mKeyError\u001b[0m: 'subj_index'"
     ]
    }
   ],
   "source": [
    "set(df_test['subj_index'])"
   ]
  },
  {
   "cell_type": "code",
   "execution_count": 67,
   "id": "8454f1d1-c401-47d1-a149-b4a3274c02bf",
   "metadata": {},
   "outputs": [
    {
     "ename": "KeyError",
     "evalue": "'subj_index'",
     "output_type": "error",
     "traceback": [
      "\u001b[1;31m---------------------------------------------------------------------------\u001b[0m",
      "\u001b[1;31mKeyError\u001b[0m                                  Traceback (most recent call last)",
      "File \u001b[1;32mD:\\Python\\Lib\\site-packages\\pandas\\core\\indexes\\base.py:3802\u001b[0m, in \u001b[0;36mIndex.get_loc\u001b[1;34m(self, key)\u001b[0m\n\u001b[0;32m   3801\u001b[0m \u001b[38;5;28;01mtry\u001b[39;00m:\n\u001b[1;32m-> 3802\u001b[0m     \u001b[38;5;28;01mreturn\u001b[39;00m \u001b[38;5;28;43mself\u001b[39;49m\u001b[38;5;241;43m.\u001b[39;49m\u001b[43m_engine\u001b[49m\u001b[38;5;241;43m.\u001b[39;49m\u001b[43mget_loc\u001b[49m\u001b[43m(\u001b[49m\u001b[43mcasted_key\u001b[49m\u001b[43m)\u001b[49m\n\u001b[0;32m   3803\u001b[0m \u001b[38;5;28;01mexcept\u001b[39;00m \u001b[38;5;167;01mKeyError\u001b[39;00m \u001b[38;5;28;01mas\u001b[39;00m err:\n",
      "File \u001b[1;32mindex.pyx:153\u001b[0m, in \u001b[0;36mpandas._libs.index.IndexEngine.get_loc\u001b[1;34m()\u001b[0m\n",
      "File \u001b[1;32mindex.pyx:182\u001b[0m, in \u001b[0;36mpandas._libs.index.IndexEngine.get_loc\u001b[1;34m()\u001b[0m\n",
      "File \u001b[1;32mpandas\\\\_libs\\\\hashtable_class_helper.pxi:7081\u001b[0m, in \u001b[0;36mpandas._libs.hashtable.PyObjectHashTable.get_item\u001b[1;34m()\u001b[0m\n",
      "File \u001b[1;32mpandas\\\\_libs\\\\hashtable_class_helper.pxi:7089\u001b[0m, in \u001b[0;36mpandas._libs.hashtable.PyObjectHashTable.get_item\u001b[1;34m()\u001b[0m\n",
      "\u001b[1;31mKeyError\u001b[0m: 'subj_index'",
      "\nThe above exception was the direct cause of the following exception:\n",
      "\u001b[1;31mKeyError\u001b[0m                                  Traceback (most recent call last)",
      "Cell \u001b[1;32mIn[67], line 12\u001b[0m\n\u001b[0;32m     10\u001b[0m \u001b[38;5;66;03m# for i in (0,1,2):\u001b[39;00m\n\u001b[0;32m     11\u001b[0m \u001b[38;5;28;01mfor\u001b[39;00m i \u001b[38;5;129;01min\u001b[39;00m (\u001b[38;5;241m3\u001b[39m,\u001b[38;5;241m4\u001b[39m,\u001b[38;5;241m5\u001b[39m):\n\u001b[1;32m---> 12\u001b[0m     y_true \u001b[38;5;241m=\u001b[39m df_test[\u001b[43mdf_test\u001b[49m\u001b[43m[\u001b[49m\u001b[38;5;124;43m\"\u001b[39;49m\u001b[38;5;124;43msubj_index\u001b[39;49m\u001b[38;5;124;43m\"\u001b[39;49m\u001b[43m]\u001b[49m \u001b[38;5;241m==\u001b[39mi]\u001b[38;5;241m.\u001b[39mtrue\n\u001b[0;32m     13\u001b[0m     y_pred \u001b[38;5;241m=\u001b[39m df_test[df_test[\u001b[38;5;124m\"\u001b[39m\u001b[38;5;124msubj_index\u001b[39m\u001b[38;5;124m\"\u001b[39m] \u001b[38;5;241m==\u001b[39mi]\u001b[38;5;241m.\u001b[39mprediction\n\u001b[0;32m     15\u001b[0m     \u001b[38;5;66;03m#calculate metrics\u001b[39;00m\n",
      "File \u001b[1;32mD:\\Python\\Lib\\site-packages\\pandas\\core\\frame.py:4090\u001b[0m, in \u001b[0;36mDataFrame.__getitem__\u001b[1;34m(self, key)\u001b[0m\n\u001b[0;32m   4088\u001b[0m \u001b[38;5;28;01mif\u001b[39;00m \u001b[38;5;28mself\u001b[39m\u001b[38;5;241m.\u001b[39mcolumns\u001b[38;5;241m.\u001b[39mnlevels \u001b[38;5;241m>\u001b[39m \u001b[38;5;241m1\u001b[39m:\n\u001b[0;32m   4089\u001b[0m     \u001b[38;5;28;01mreturn\u001b[39;00m \u001b[38;5;28mself\u001b[39m\u001b[38;5;241m.\u001b[39m_getitem_multilevel(key)\n\u001b[1;32m-> 4090\u001b[0m indexer \u001b[38;5;241m=\u001b[39m \u001b[38;5;28;43mself\u001b[39;49m\u001b[38;5;241;43m.\u001b[39;49m\u001b[43mcolumns\u001b[49m\u001b[38;5;241;43m.\u001b[39;49m\u001b[43mget_loc\u001b[49m\u001b[43m(\u001b[49m\u001b[43mkey\u001b[49m\u001b[43m)\u001b[49m\n\u001b[0;32m   4091\u001b[0m \u001b[38;5;28;01mif\u001b[39;00m is_integer(indexer):\n\u001b[0;32m   4092\u001b[0m     indexer \u001b[38;5;241m=\u001b[39m [indexer]\n",
      "File \u001b[1;32mD:\\Python\\Lib\\site-packages\\pandas\\core\\indexes\\base.py:3809\u001b[0m, in \u001b[0;36mIndex.get_loc\u001b[1;34m(self, key)\u001b[0m\n\u001b[0;32m   3804\u001b[0m     \u001b[38;5;28;01mif\u001b[39;00m \u001b[38;5;28misinstance\u001b[39m(casted_key, \u001b[38;5;28mslice\u001b[39m) \u001b[38;5;129;01mor\u001b[39;00m (\n\u001b[0;32m   3805\u001b[0m         \u001b[38;5;28misinstance\u001b[39m(casted_key, abc\u001b[38;5;241m.\u001b[39mIterable)\n\u001b[0;32m   3806\u001b[0m         \u001b[38;5;129;01mand\u001b[39;00m \u001b[38;5;28many\u001b[39m(\u001b[38;5;28misinstance\u001b[39m(x, \u001b[38;5;28mslice\u001b[39m) \u001b[38;5;28;01mfor\u001b[39;00m x \u001b[38;5;129;01min\u001b[39;00m casted_key)\n\u001b[0;32m   3807\u001b[0m     ):\n\u001b[0;32m   3808\u001b[0m         \u001b[38;5;28;01mraise\u001b[39;00m InvalidIndexError(key)\n\u001b[1;32m-> 3809\u001b[0m     \u001b[38;5;28;01mraise\u001b[39;00m \u001b[38;5;167;01mKeyError\u001b[39;00m(key) \u001b[38;5;28;01mfrom\u001b[39;00m \u001b[38;5;21;01merr\u001b[39;00m\n\u001b[0;32m   3810\u001b[0m \u001b[38;5;28;01mexcept\u001b[39;00m \u001b[38;5;167;01mTypeError\u001b[39;00m:\n\u001b[0;32m   3811\u001b[0m     \u001b[38;5;66;03m# If we have a listlike key, _check_indexing_error will raise\u001b[39;00m\n\u001b[0;32m   3812\u001b[0m     \u001b[38;5;66;03m#  InvalidIndexError. Otherwise we fall through and re-raise\u001b[39;00m\n\u001b[0;32m   3813\u001b[0m     \u001b[38;5;66;03m#  the TypeError.\u001b[39;00m\n\u001b[0;32m   3814\u001b[0m     \u001b[38;5;28mself\u001b[39m\u001b[38;5;241m.\u001b[39m_check_indexing_error(key)\n",
      "\u001b[1;31mKeyError\u001b[0m: 'subj_index'"
     ]
    }
   ],
   "source": [
    "from sklearn.metrics import confusion_matrix, ConfusionMatrixDisplay\n",
    "\n",
    "\n",
    "classes_mapping = {2: \"Awake\", 1: \"AS\", 0: \"QS\"}\n",
    "display_labels = list(classes_mapping.values())\n",
    "# labels = [2,0,1] #Change the label order of the confusion matrix\n",
    "\n",
    "labels = [2,1,0]\n",
    "\n",
    "# for i in (0,1,2):\n",
    "for i in (3,4,5):\n",
    "    y_true = df_test[df_test[\"subj_index\"] ==i].true\n",
    "    y_pred = df_test[df_test[\"subj_index\"] ==i].prediction\n",
    "\n",
    "    #calculate metrics\n",
    "    balanced_accuracy_subject = round(balanced_accuracy_score(y_true, y_pred),2)\n",
    "    accuracy_subject = round(accuracy_score(y_true, y_pred), 2)\n",
    "    kappa_subject = round(cohen_kappa_score(y_true, y_pred),2)\n",
    "    #confusion matrix\n",
    "    conf_matrix_subject = confusion_matrix(y_true, y_pred, labels = labels)\n",
    "    disp_subject = ConfusionMatrixDisplay(confusion_matrix = conf_matrix_subject, display_labels = display_labels)\n",
    "    \n",
    "\n",
    "    plt.rcParams.update({'font.size': 16})\n",
    "    disp_subject.plot()\n",
    "    \n",
    "    #plt.title('高胆未换血subject:{s},accuracy:{b},kappa:{k}'.format(s=i,b=accuracy_subject,k=kappa_subject))\n",
    "    plt.title('未换血subject:{s},balanced-acc:{b},acc:{a},kappa:{k}'.format(s=i,a=accuracy_subject,b=balanced_accuracy_subject,k=kappa_subject))\n",
    "    \n",
    "    plt.show()\n"
   ]
  },
  {
   "cell_type": "code",
   "execution_count": 54,
   "id": "8095cc58-ab5b-4ad0-b423-8ffbad009e8d",
   "metadata": {},
   "outputs": [],
   "source": [
    "# from sklearn.metrics import confusion_matrix, ConfusionMatrixDisplay\n",
    "# classes_mapping = {2: \"Awake\", 1: \"AS\", 0: \"QS\"}\n",
    "# display_labels = list(classes_mapping.values())\n",
    "# # labels = [2,0,1] #Change the label order of the confusion matrix\n",
    "\n",
    "# labels = [2,1,0]\n",
    "\n",
    "\n",
    "# for i in set(df_test['subj_index']):\n",
    "#     conf_matrix_subject = confusion_matrix(df_test[df_test[\"subj_index\"] ==i].true, \n",
    "#                                            df_test[df_test[\"subj_index\"] ==i].prediction, labels = labels)\n",
    "#     disp_subject = ConfusionMatrixDisplay(confusion_matrix = conf_matrix_subject, display_labels = display_labels)\n",
    "\n",
    "#     disp_subject.plot()\n",
    "#     plt.title('test subject:{s}'.format(s=i))\n",
    "#     plt.rcParams.update({'font.size': 20})\n",
    "#     plt.show()\n"
   ]
  },
  {
   "cell_type": "markdown",
   "id": "fc95d775-bf65-46f4-94fe-0653f5c9bcd7",
   "metadata": {},
   "source": [
    "Make a table for accuracy for each subject:"
   ]
  },
  {
   "cell_type": "markdown",
   "id": "ba07af71-d711-4fd6-b455-6ff02188c597",
   "metadata": {},
   "source": [
    "### 2-classes evaluation\n",
    "\n",
    "- 2: Awake\n",
    "- 1: AS\n",
    "- 0: QS\n",
    "\n",
    "1. Combine sleep stages: AS-1 and QS-0 into 1 class as 1"
   ]
  },
  {
   "cell_type": "code",
   "execution_count": 55,
   "id": "267122f7-810b-4f45-a0b2-d76f76de5431",
   "metadata": {},
   "outputs": [],
   "source": [
    "df_test = pd.DataFrame({'true': y_true, 'prediction': y_pred})\n",
    "df_train = pd.DataFrame({'true': y_pred_train_all, 'prediction': y_true_train_all})\n",
    "df_valid = pd.DataFrame({'true': y_pred_valid_all, 'prediction': y_true_valid_all})"
   ]
  },
  {
   "cell_type": "code",
   "execution_count": 56,
   "id": "de9a0cd5-14cb-4614-8a03-00ae2e659858",
   "metadata": {
    "scrolled": true
   },
   "outputs": [
    {
     "name": "stderr",
     "output_type": "stream",
     "text": [
      "C:\\Users\\admin\\AppData\\Local\\Temp\\ipykernel_1760\\3957580033.py:3: FutureWarning: A value is trying to be set on a copy of a DataFrame or Series through chained assignment using an inplace method.\n",
      "The behavior will change in pandas 3.0. This inplace method will never work because the intermediate object on which we are setting values always behaves as a copy.\n",
      "\n",
      "For example, when doing 'df[col].method(value, inplace=True)', try using 'df.method({col: value}, inplace=True)' or df[col] = df[col].method(value) instead, to perform the operation inplace on the original object.\n",
      "\n",
      "\n",
      "  df_test['true'].replace(0, 1, inplace = True)\n",
      "C:\\Users\\admin\\AppData\\Local\\Temp\\ipykernel_1760\\3957580033.py:4: FutureWarning: A value is trying to be set on a copy of a DataFrame or Series through chained assignment using an inplace method.\n",
      "The behavior will change in pandas 3.0. This inplace method will never work because the intermediate object on which we are setting values always behaves as a copy.\n",
      "\n",
      "For example, when doing 'df[col].method(value, inplace=True)', try using 'df.method({col: value}, inplace=True)' or df[col] = df[col].method(value) instead, to perform the operation inplace on the original object.\n",
      "\n",
      "\n",
      "  df_test['prediction'].replace(0, 1, inplace = True)\n",
      "C:\\Users\\admin\\AppData\\Local\\Temp\\ipykernel_1760\\3957580033.py:6: FutureWarning: A value is trying to be set on a copy of a DataFrame or Series through chained assignment using an inplace method.\n",
      "The behavior will change in pandas 3.0. This inplace method will never work because the intermediate object on which we are setting values always behaves as a copy.\n",
      "\n",
      "For example, when doing 'df[col].method(value, inplace=True)', try using 'df.method({col: value}, inplace=True)' or df[col] = df[col].method(value) instead, to perform the operation inplace on the original object.\n",
      "\n",
      "\n",
      "  df_train['true'].replace(0, 1, inplace = True)\n",
      "C:\\Users\\admin\\AppData\\Local\\Temp\\ipykernel_1760\\3957580033.py:7: FutureWarning: A value is trying to be set on a copy of a DataFrame or Series through chained assignment using an inplace method.\n",
      "The behavior will change in pandas 3.0. This inplace method will never work because the intermediate object on which we are setting values always behaves as a copy.\n",
      "\n",
      "For example, when doing 'df[col].method(value, inplace=True)', try using 'df.method({col: value}, inplace=True)' or df[col] = df[col].method(value) instead, to perform the operation inplace on the original object.\n",
      "\n",
      "\n",
      "  df_train['prediction'].replace(0, 1, inplace = True)\n",
      "C:\\Users\\admin\\AppData\\Local\\Temp\\ipykernel_1760\\3957580033.py:9: FutureWarning: A value is trying to be set on a copy of a DataFrame or Series through chained assignment using an inplace method.\n",
      "The behavior will change in pandas 3.0. This inplace method will never work because the intermediate object on which we are setting values always behaves as a copy.\n",
      "\n",
      "For example, when doing 'df[col].method(value, inplace=True)', try using 'df.method({col: value}, inplace=True)' or df[col] = df[col].method(value) instead, to perform the operation inplace on the original object.\n",
      "\n",
      "\n",
      "  df_valid['true'].replace(0, 1, inplace = True)\n",
      "C:\\Users\\admin\\AppData\\Local\\Temp\\ipykernel_1760\\3957580033.py:10: FutureWarning: A value is trying to be set on a copy of a DataFrame or Series through chained assignment using an inplace method.\n",
      "The behavior will change in pandas 3.0. This inplace method will never work because the intermediate object on which we are setting values always behaves as a copy.\n",
      "\n",
      "For example, when doing 'df[col].method(value, inplace=True)', try using 'df.method({col: value}, inplace=True)' or df[col] = df[col].method(value) instead, to perform the operation inplace on the original object.\n",
      "\n",
      "\n",
      "  df_valid['prediction'].replace(0, 1, inplace = True)\n"
     ]
    }
   ],
   "source": [
    "from sklearn.metrics import balanced_accuracy_score, cohen_kappa_score, roc_auc_score\n",
    "\n",
    "df_test['true'].replace(0, 1, inplace = True)\n",
    "df_test['prediction'].replace(0, 1, inplace = True)\n",
    "\n",
    "df_train['true'].replace(0, 1, inplace = True)\n",
    "df_train['prediction'].replace(0, 1, inplace = True)\n",
    "\n",
    "df_valid['true'].replace(0, 1, inplace = True)\n",
    "df_valid['prediction'].replace(0, 1, inplace = True)"
   ]
  },
  {
   "cell_type": "code",
   "execution_count": 57,
   "id": "28927690-359a-4327-b9a1-f22b1314bedf",
   "metadata": {},
   "outputs": [],
   "source": [
    "from sklearn import metrics\n",
    "from sklearn.metrics import classification_report\n",
    "\n",
    "\n",
    "test_accuracy_2classes = metrics.balanced_accuracy_score(df_test['true'], df_test['prediction'])\n",
    "test_cohen_kappa_2classes = cohen_kappa_score(df_test['true'], df_test['prediction'])\n",
    "test_precision_2classes = precision_score(df_test['true'], df_test['prediction'])\n",
    "test_recall_2classes = recall_score(df_test['true'], df_test['prediction'])\n",
    "test_f1_2classes = fbeta_score(df_test['true'], df_test['prediction'], beta = 1)\n",
    "#print('2 classes: balanced accuracy is {:.1%}, cohen\\'s kappa is {:.1%}'. format(test_accuracy_2classes, test_cohen_kappa_2classes))\n",
    "\n",
    "target_names = ['Awake', 'Sleep']\n",
    "c_2test = classification_report(df_test['true'],df_test['prediction'], target_names = target_names, output_dict = True)\n"
   ]
  },
  {
   "cell_type": "code",
   "execution_count": 58,
   "id": "b510fea9-a7b0-4e18-b82e-0523074ec96d",
   "metadata": {},
   "outputs": [],
   "source": [
    "train_accuracy_2classes = metrics.balanced_accuracy_score(df_train['true'], df_train['prediction'])\n",
    "train_cohen_kappa_2classes = cohen_kappa_score(df_train['true'], df_train['prediction'])\n",
    "train_precision_2classes = precision_score(df_train['true'], df_train['prediction'])\n",
    "train_recall_2classes = recall_score(df_train['true'], df_train['prediction'])\n",
    "train_f1_2classes = fbeta_score(df_train['true'], df_train['prediction'], beta = 1)\n",
    "\n",
    "#print('2 classes: balanced accuracy is {:.1%}, cohen\\'s kappa is {:.1%}'. format(train_accuracy_2classes, train_cohen_kappa_2classes))\n",
    "\n",
    "target_names = ['Awake', 'Sleep']\n",
    "c_2train = classification_report(df_train['true'],df_train['prediction'], target_names = target_names, output_dict = True)"
   ]
  },
  {
   "cell_type": "code",
   "execution_count": 59,
   "id": "2c5fd19d-45c0-470e-9067-622e93f27e74",
   "metadata": {},
   "outputs": [],
   "source": [
    "valid_accuracy_2classes = metrics.balanced_accuracy_score(df_valid['true'], df_valid['prediction'])\n",
    "valid_cohen_kappa_2classes = cohen_kappa_score(df_valid['true'], df_valid['prediction'])\n",
    "valid_precision_2classes = precision_score(df_valid['true'], df_valid['prediction'])\n",
    "valid_recall_2classes = recall_score(df_valid['true'], df_valid['prediction'])\n",
    "valid_f1_2classes = fbeta_score(df_valid['true'], df_valid['prediction'], beta = 1)\n",
    "#print('2 classes: balanced accuracy is {:.1%}, cohen\\'s kappa is {:.1%}'. format(valid_accuracy_2classes, valid_cohen_kappa_2classes))\n",
    "\n",
    "target_names = ['Awake', 'Sleep']\n",
    "c_2valid = classification_report(df_valid['true'],df_valid['prediction'], target_names = target_names, output_dict = True)\n"
   ]
  },
  {
   "cell_type": "code",
   "execution_count": 60,
   "id": "8a9bb72a-7c25-4c22-bba5-a65e5fe90203",
   "metadata": {},
   "outputs": [
    {
     "data": {
      "text/html": [
       "<style type=\"text/css\">\n",
       "</style>\n",
       "<table id=\"T_adfd8\">\n",
       "  <thead>\n",
       "    <tr>\n",
       "      <th class=\"blank level0\" >&nbsp;</th>\n",
       "      <th id=\"T_adfd8_level0_col0\" class=\"col_heading level0 col0\" >Num of Channels</th>\n",
       "      <th id=\"T_adfd8_level0_col1\" class=\"col_heading level0 col1\" >Channel names</th>\n",
       "      <th id=\"T_adfd8_level0_col2\" class=\"col_heading level0 col2\" >classes</th>\n",
       "      <th id=\"T_adfd8_level0_col3\" class=\"col_heading level0 col3\" >Test balanced accuracy</th>\n",
       "      <th id=\"T_adfd8_level0_col4\" class=\"col_heading level0 col4\" >Train balanced accuracy</th>\n",
       "      <th id=\"T_adfd8_level0_col5\" class=\"col_heading level0 col5\" >Validation balanced accuracy</th>\n",
       "      <th id=\"T_adfd8_level0_col6\" class=\"col_heading level0 col6\" >Test Cohen's kappa</th>\n",
       "      <th id=\"T_adfd8_level0_col7\" class=\"col_heading level0 col7\" >Train Cohen's kappa</th>\n",
       "      <th id=\"T_adfd8_level0_col8\" class=\"col_heading level0 col8\" >Validation Cohen's kappa</th>\n",
       "    </tr>\n",
       "  </thead>\n",
       "  <tbody>\n",
       "    <tr>\n",
       "      <th id=\"T_adfd8_level0_row0\" class=\"row_heading level0 row0\" >0</th>\n",
       "      <td id=\"T_adfd8_row0_col0\" class=\"data row0 col0\" >12</td>\n",
       "      <td id=\"T_adfd8_row0_col1\" class=\"data row0 col1\" >['Fp1-AV', 'Fp2-AV', 'C3-AV', 'C4-AV', 'P3-AV', 'P4-AV', 'O1-AV', 'O2-AV', 'T3-AV', 'T4-AV', 'Cz-AV', 'Pz-AV']</td>\n",
       "      <td id=\"T_adfd8_row0_col2\" class=\"data row0 col2\" >Awake/As/Qs</td>\n",
       "      <td id=\"T_adfd8_row0_col3\" class=\"data row0 col3\" >53.4%</td>\n",
       "      <td id=\"T_adfd8_row0_col4\" class=\"data row0 col4\" >77.1%</td>\n",
       "      <td id=\"T_adfd8_row0_col5\" class=\"data row0 col5\" >69.9%</td>\n",
       "      <td id=\"T_adfd8_row0_col6\" class=\"data row0 col6\" >29.0%</td>\n",
       "      <td id=\"T_adfd8_row0_col7\" class=\"data row0 col7\" >64.8%</td>\n",
       "      <td id=\"T_adfd8_row0_col8\" class=\"data row0 col8\" >55.6%</td>\n",
       "    </tr>\n",
       "    <tr>\n",
       "      <th id=\"T_adfd8_level0_row1\" class=\"row_heading level0 row1\" >1</th>\n",
       "      <td id=\"T_adfd8_row1_col0\" class=\"data row1 col0\" >12</td>\n",
       "      <td id=\"T_adfd8_row1_col1\" class=\"data row1 col1\" >['Fp1-AV', 'Fp2-AV', 'C3-AV', 'C4-AV', 'P3-AV', 'P4-AV', 'O1-AV', 'O2-AV', 'T3-AV', 'T4-AV', 'Cz-AV', 'Pz-AV']</td>\n",
       "      <td id=\"T_adfd8_row1_col2\" class=\"data row1 col2\" >Awake/Sleep</td>\n",
       "      <td id=\"T_adfd8_row1_col3\" class=\"data row1 col3\" >66.7%</td>\n",
       "      <td id=\"T_adfd8_row1_col4\" class=\"data row1 col4\" >82.7%</td>\n",
       "      <td id=\"T_adfd8_row1_col5\" class=\"data row1 col5\" >78.4%</td>\n",
       "      <td id=\"T_adfd8_row1_col6\" class=\"data row1 col6\" >40.1%</td>\n",
       "      <td id=\"T_adfd8_row1_col7\" class=\"data row1 col7\" >66.6%</td>\n",
       "      <td id=\"T_adfd8_row1_col8\" class=\"data row1 col8\" >50.7%</td>\n",
       "    </tr>\n",
       "  </tbody>\n",
       "</table>\n"
      ],
      "text/plain": [
       "<pandas.io.formats.style.Styler at 0x1a660d65d00>"
      ]
     },
     "execution_count": 60,
     "metadata": {},
     "output_type": "execute_result"
    }
   ],
   "source": [
    "ch_names = raws[1].ch_names\n",
    "n_chan = len(ch_names)  # note: there is no raw.n_channels attribute\n",
    "\n",
    "# Evaluation_matrics_all = Evaluation_matrics_all.style.set_caption('3-classes performance evaluation')\n",
    "metric_3classes = pd.DataFrame({\"Num of Channels\": [n_chan,n_chan],\n",
    "                                      \"Channel names\": [list(ch_names),list(ch_names)],\n",
    "                                       \"classes\": ['Awake/As/Qs','Awake/Sleep'],\n",
    "                                       \"Test balanced accuracy\": [test_bal_acc, test_accuracy_2classes],\n",
    "                                       \"Train balanced accuracy\": [train_bal_acc, train_accuracy_2classes],\n",
    "                                       \"Validation balanced accuracy\": [valid_bal_acc, valid_accuracy_2classes],\n",
    "                                       \"Test Cohen\\'s kappa\": [test_kappa, test_cohen_kappa_2classes],\n",
    "                                       \"Train Cohen\\'s kappa\": [train_kappa, train_cohen_kappa_2classes],\n",
    "                                       \"Validation Cohen\\'s kappa\": [valid_kappa, valid_cohen_kappa_2classes]\n",
    "                                       \n",
    "                                      \n",
    "                                      \n",
    "                                      })\n",
    "\n",
    "metric_3classes.style.format({'Test balanced accuracy': \"{:.1%}\", 'Train balanced accuracy': \"{:.1%}\", 'Validation balanced accuracy': \"{:.1%}\", 'Test Cohen\\'s kappa': \"{:.1%}\", 'Train Cohen\\'s kappa': \"{:.1%}\", 'Validation Cohen\\'s kappa': \"{:.1%}\"})\n",
    "\n",
    "\n",
    "\n"
   ]
  },
  {
   "cell_type": "code",
   "execution_count": 61,
   "id": "af42ebd6-73f1-47f8-be28-657ad0a119cb",
   "metadata": {},
   "outputs": [
    {
     "data": {
      "text/html": [
       "<style type=\"text/css\">\n",
       "</style>\n",
       "<table id=\"T_cd075\">\n",
       "  <thead>\n",
       "    <tr>\n",
       "      <th class=\"blank level0\" >&nbsp;</th>\n",
       "      <th id=\"T_cd075_level0_col0\" class=\"col_heading level0 col0\" >Num of Channels</th>\n",
       "      <th id=\"T_cd075_level0_col1\" class=\"col_heading level0 col1\" >Channel names</th>\n",
       "      <th id=\"T_cd075_level0_col2\" class=\"col_heading level0 col2\" >classes</th>\n",
       "      <th id=\"T_cd075_level0_col3\" class=\"col_heading level0 col3\" >Test precision</th>\n",
       "      <th id=\"T_cd075_level0_col4\" class=\"col_heading level0 col4\" >Train precision</th>\n",
       "      <th id=\"T_cd075_level0_col5\" class=\"col_heading level0 col5\" >Validation precision</th>\n",
       "      <th id=\"T_cd075_level0_col6\" class=\"col_heading level0 col6\" >Test recall</th>\n",
       "      <th id=\"T_cd075_level0_col7\" class=\"col_heading level0 col7\" >Train recall</th>\n",
       "      <th id=\"T_cd075_level0_col8\" class=\"col_heading level0 col8\" >Validation recall</th>\n",
       "      <th id=\"T_cd075_level0_col9\" class=\"col_heading level0 col9\" >Test F1</th>\n",
       "      <th id=\"T_cd075_level0_col10\" class=\"col_heading level0 col10\" >Train F1</th>\n",
       "      <th id=\"T_cd075_level0_col11\" class=\"col_heading level0 col11\" >Validation F1</th>\n",
       "    </tr>\n",
       "  </thead>\n",
       "  <tbody>\n",
       "    <tr>\n",
       "      <th id=\"T_cd075_level0_row0\" class=\"row_heading level0 row0\" >0</th>\n",
       "      <td id=\"T_cd075_row0_col0\" class=\"data row0 col0\" >12</td>\n",
       "      <td id=\"T_cd075_row0_col1\" class=\"data row0 col1\" >['Fp1-AV', 'Fp2-AV', 'C3-AV', 'C4-AV', 'P3-AV', 'P4-AV', 'O1-AV', 'O2-AV', 'T3-AV', 'T4-AV', 'Cz-AV', 'Pz-AV']</td>\n",
       "      <td id=\"T_cd075_row0_col2\" class=\"data row0 col2\" >Awake/Sleep</td>\n",
       "      <td id=\"T_cd075_row0_col3\" class=\"data row0 col3\" >76.2%</td>\n",
       "      <td id=\"T_cd075_row0_col4\" class=\"data row0 col4\" >88.7%</td>\n",
       "      <td id=\"T_cd075_row0_col5\" class=\"data row0 col5\" >92.0%</td>\n",
       "      <td id=\"T_cd075_row0_col6\" class=\"data row0 col6\" >98.8%</td>\n",
       "      <td id=\"T_cd075_row0_col7\" class=\"data row0 col7\" >91.4%</td>\n",
       "      <td id=\"T_cd075_row0_col8\" class=\"data row0 col8\" >83.8%</td>\n",
       "      <td id=\"T_cd075_row0_col9\" class=\"data row0 col9\" >86.1%</td>\n",
       "      <td id=\"T_cd075_row0_col10\" class=\"data row0 col10\" >90.0%</td>\n",
       "      <td id=\"T_cd075_row0_col11\" class=\"data row0 col11\" >87.7%</td>\n",
       "    </tr>\n",
       "  </tbody>\n",
       "</table>\n"
      ],
      "text/plain": [
       "<pandas.io.formats.style.Styler at 0x1a8010991f0>"
      ]
     },
     "execution_count": 61,
     "metadata": {},
     "output_type": "execute_result"
    }
   ],
   "source": [
    "# Evaluation_matrics_all = Evaluation_matrics_all.style.set_caption('3-classes performance evaluation')\n",
    "metric_2classes = pd.DataFrame({\"Num of Channels\": n_chan,\n",
    "                              \"Channel names\": [list(ch_names)],\n",
    "                            \"classes\": ['Awake/Sleep'],\n",
    "                               # \"Test balanced accuracy\": test_accuracy_2classes,\n",
    "                               # \"Train balanced accuracy\": train_accuracy_2classes,\n",
    "                               # \"Validation balanced accuracy\": valid_accuracy_2classes,\n",
    "                                \n",
    "                               # \"Test Cohen\\'s kappa\": test_cohen_kappa_2classes,\n",
    "                               # \"Train Cohen\\'s kappa\": train_cohen_kappa_2classes,\n",
    "                               # \"Validation Cohen\\'s kappa\": valid_cohen_kappa_2classes,\n",
    "                      \n",
    "                               \"Test precision\": test_precision_2classes,\n",
    "                                \"Train precision\": train_precision_2classes,\n",
    "                                \"Validation precision\": valid_precision_2classes,\n",
    "                                \n",
    "                                \"Test recall\": test_recall_2classes,\n",
    "                                \"Train recall\": train_recall_2classes,\n",
    "                                \"Validation recall\": valid_recall_2classes,\n",
    "                                \n",
    "                                \"Test F1\": test_f1_2classes,\n",
    "                                \"Train F1\": train_f1_2classes,\n",
    "                                \"Validation F1\": valid_f1_2classes\n",
    "                                                                         \n",
    "                                      })\n",
    "\n",
    "metric_2classes.style.format({'Test balanced accuracy': \"{:.1%}\", 'Train balanced accuracy': \"{:.1%}\", 'Validation balanced accuracy': \"{:.1%}\", 'Test Cohen\\'s kappa': \"{:.1%}\", 'Train Cohen\\'s kappa': \"{:.1%}\", 'Validation Cohen\\'s kappa': \"{:.1%}\", 'Test precision': \"{:.1%}\", 'Train precision': \"{:.1%}\", 'Validation precision': \"{:.1%}\",\n",
    "       'Test recall': \"{:.1%}\", 'Train recall': \"{:.1%}\", 'Validation recall': \"{:.1%}\", 'Test F1': \"{:.1%}\",\n",
    "       'Train F1': \"{:.1%}\", 'Validation F1': \"{:.1%}\"})\n",
    "\n",
    "\n",
    "\n"
   ]
  },
  {
   "cell_type": "code",
   "execution_count": 62,
   "id": "ddd8ac67-29a7-4d63-9433-ab94c1b361b4",
   "metadata": {},
   "outputs": [
    {
     "data": {
      "text/html": [
       "<style type=\"text/css\">\n",
       "</style>\n",
       "<table id=\"T_2774f\">\n",
       "  <thead>\n",
       "    <tr>\n",
       "      <th class=\"blank level0\" >&nbsp;</th>\n",
       "      <th id=\"T_2774f_level0_col0\" class=\"col_heading level0 col0\" >Dataset</th>\n",
       "      <th id=\"T_2774f_level0_col1\" class=\"col_heading level0 col1\" >Num of Channels</th>\n",
       "      <th id=\"T_2774f_level0_col2\" class=\"col_heading level0 col2\" >Channel names</th>\n",
       "      <th id=\"T_2774f_level0_col3\" class=\"col_heading level0 col3\" >Accuracy</th>\n",
       "      <th id=\"T_2774f_level0_col4\" class=\"col_heading level0 col4\" >Kappa</th>\n",
       "      <th id=\"T_2774f_level0_col5\" class=\"col_heading level0 col5\" >Awake Precision</th>\n",
       "      <th id=\"T_2774f_level0_col6\" class=\"col_heading level0 col6\" >Sleep Precision</th>\n",
       "      <th id=\"T_2774f_level0_col7\" class=\"col_heading level0 col7\" >AS Precision</th>\n",
       "      <th id=\"T_2774f_level0_col8\" class=\"col_heading level0 col8\" >QS Precision</th>\n",
       "      <th id=\"T_2774f_level0_col9\" class=\"col_heading level0 col9\" >Awake Recall</th>\n",
       "      <th id=\"T_2774f_level0_col10\" class=\"col_heading level0 col10\" >Sleep Recall</th>\n",
       "      <th id=\"T_2774f_level0_col11\" class=\"col_heading level0 col11\" >AS Recall</th>\n",
       "      <th id=\"T_2774f_level0_col12\" class=\"col_heading level0 col12\" >QS Recall</th>\n",
       "    </tr>\n",
       "  </thead>\n",
       "  <tbody>\n",
       "    <tr>\n",
       "      <th id=\"T_2774f_level0_row0\" class=\"row_heading level0 row0\" >0</th>\n",
       "      <td id=\"T_2774f_row0_col0\" class=\"data row0 col0\" >Train</td>\n",
       "      <td id=\"T_2774f_row0_col1\" class=\"data row0 col1\" >12</td>\n",
       "      <td id=\"T_2774f_row0_col2\" class=\"data row0 col2\" >['Fp1-AV', 'Fp2-AV', 'C3-AV', 'C4-AV', 'P3-AV', 'P4-AV', 'O1-AV', 'O2-AV', 'T3-AV', 'T4-AV', 'Cz-AV', 'Pz-AV']</td>\n",
       "      <td id=\"T_2774f_row0_col3\" class=\"data row0 col3\" >82.7%</td>\n",
       "      <td id=\"T_2774f_row0_col4\" class=\"data row0 col4\" >66.6%</td>\n",
       "      <td id=\"T_2774f_row0_col5\" class=\"data row0 col5\" >88.7%</td>\n",
       "      <td id=\"T_2774f_row0_col6\" class=\"data row0 col6\" >79.3%</td>\n",
       "      <td id=\"T_2774f_row0_col7\" class=\"data row0 col7\" >76.0%</td>\n",
       "      <td id=\"T_2774f_row0_col8\" class=\"data row0 col8\" >81.4%</td>\n",
       "      <td id=\"T_2774f_row0_col9\" class=\"data row0 col9\" >91.4%</td>\n",
       "      <td id=\"T_2774f_row0_col10\" class=\"data row0 col10\" >73.9%</td>\n",
       "      <td id=\"T_2774f_row0_col11\" class=\"data row0 col11\" >75.7%</td>\n",
       "      <td id=\"T_2774f_row0_col12\" class=\"data row0 col12\" >76.1%</td>\n",
       "    </tr>\n",
       "  </tbody>\n",
       "</table>\n"
      ],
      "text/plain": [
       "<pandas.io.formats.style.Styler at 0x1a801082e10>"
      ]
     },
     "execution_count": 62,
     "metadata": {},
     "output_type": "execute_result"
    }
   ],
   "source": [
    "# Evaluation_matrics_all = Evaluation_matrics_all.style.set_caption('3-classes performance evaluation')\n",
    "metric_train = pd.DataFrame({\"Dataset\": ['Train'],\n",
    "    \"Num of Channels\": [n_chan],\n",
    "                                \"Channel names\": [list(ch_names)],\n",
    "                                \"Accuracy\": train_accuracy_2classes,\n",
    "                           \"Kappa\": train_cohen_kappa_2classes,\n",
    "                           \"Awake Precision\": c_2train['Awake']['precision'],\n",
    "                           \"Sleep Precision\": c_2train['Sleep']['precision'],\n",
    "                           \"AS Precision\": c_3train['AS']['precision'],\n",
    "                           \"QS Precision\": c_3train['QS']['precision'],\n",
    "\n",
    "                           \"Awake Recall\": c_2train['Awake']['recall'],\n",
    "                           \"Sleep Recall\": c_2train['Sleep']['recall'],\n",
    "                           \"AS Recall\": c_3train['AS']['recall'],\n",
    "                           \"QS Recall\": c_3train['QS']['recall']\n",
    "                            \n",
    "                                      })\n",
    "\n",
    "\n",
    "metric_train.style.format({\"Accuracy\":\"{:.1%}\", \"Kappa\": \"{:.1%}\", \"Awake Precision\": \"{:.1%}\", \"Sleep Precision\": \"{:.1%}\", \"AS Precision\": \"{:.1%}\", \"QS Precision\": \"{:.1%}\", \"Awake Recall\": \"{:.1%}\", \"Sleep Recall\": \"{:.1%}\" , \"AS Recall\": \"{:.1%}\", \"QS Recall\": \"{:.1%}\"})"
   ]
  },
  {
   "cell_type": "code",
   "execution_count": 63,
   "id": "32ba1e8f-8960-4ccb-bc35-475a361ae30f",
   "metadata": {},
   "outputs": [
    {
     "data": {
      "text/html": [
       "<style type=\"text/css\">\n",
       "</style>\n",
       "<table id=\"T_286e1\">\n",
       "  <thead>\n",
       "    <tr>\n",
       "      <th class=\"blank level0\" >&nbsp;</th>\n",
       "      <th id=\"T_286e1_level0_col0\" class=\"col_heading level0 col0\" >Dataset</th>\n",
       "      <th id=\"T_286e1_level0_col1\" class=\"col_heading level0 col1\" >Num of Channels</th>\n",
       "      <th id=\"T_286e1_level0_col2\" class=\"col_heading level0 col2\" >Channel names</th>\n",
       "      <th id=\"T_286e1_level0_col3\" class=\"col_heading level0 col3\" >Accuracy</th>\n",
       "      <th id=\"T_286e1_level0_col4\" class=\"col_heading level0 col4\" >Kappa</th>\n",
       "      <th id=\"T_286e1_level0_col5\" class=\"col_heading level0 col5\" >Awake Precision</th>\n",
       "      <th id=\"T_286e1_level0_col6\" class=\"col_heading level0 col6\" >Sleep Precision</th>\n",
       "      <th id=\"T_286e1_level0_col7\" class=\"col_heading level0 col7\" >AS Precision</th>\n",
       "      <th id=\"T_286e1_level0_col8\" class=\"col_heading level0 col8\" >QS Precision</th>\n",
       "      <th id=\"T_286e1_level0_col9\" class=\"col_heading level0 col9\" >Awake Recall</th>\n",
       "      <th id=\"T_286e1_level0_col10\" class=\"col_heading level0 col10\" >Sleep Recall</th>\n",
       "      <th id=\"T_286e1_level0_col11\" class=\"col_heading level0 col11\" >AS Recall</th>\n",
       "      <th id=\"T_286e1_level0_col12\" class=\"col_heading level0 col12\" >QS Recall</th>\n",
       "    </tr>\n",
       "  </thead>\n",
       "  <tbody>\n",
       "    <tr>\n",
       "      <th id=\"T_286e1_level0_row0\" class=\"row_heading level0 row0\" >0</th>\n",
       "      <td id=\"T_286e1_row0_col0\" class=\"data row0 col0\" >Valid</td>\n",
       "      <td id=\"T_286e1_row0_col1\" class=\"data row0 col1\" >12</td>\n",
       "      <td id=\"T_286e1_row0_col2\" class=\"data row0 col2\" >['Fp1-AV', 'Fp2-AV', 'C3-AV', 'C4-AV', 'P3-AV', 'P4-AV', 'O1-AV', 'O2-AV', 'T3-AV', 'T4-AV', 'Cz-AV', 'Pz-AV']</td>\n",
       "      <td id=\"T_286e1_row0_col3\" class=\"data row0 col3\" >78.4%</td>\n",
       "      <td id=\"T_286e1_row0_col4\" class=\"data row0 col4\" >50.7%</td>\n",
       "      <td id=\"T_286e1_row0_col5\" class=\"data row0 col5\" >92.0%</td>\n",
       "      <td id=\"T_286e1_row0_col6\" class=\"data row0 col6\" >54.8%</td>\n",
       "      <td id=\"T_286e1_row0_col7\" class=\"data row0 col7\" >66.6%</td>\n",
       "      <td id=\"T_286e1_row0_col8\" class=\"data row0 col8\" >76.3%</td>\n",
       "      <td id=\"T_286e1_row0_col9\" class=\"data row0 col9\" >83.8%</td>\n",
       "      <td id=\"T_286e1_row0_col10\" class=\"data row0 col10\" >73.0%</td>\n",
       "      <td id=\"T_286e1_row0_col11\" class=\"data row0 col11\" >78.3%</td>\n",
       "      <td id=\"T_286e1_row0_col12\" class=\"data row0 col12\" >76.5%</td>\n",
       "    </tr>\n",
       "  </tbody>\n",
       "</table>\n"
      ],
      "text/plain": [
       "<pandas.io.formats.style.Styler at 0x1a802d8ec00>"
      ]
     },
     "execution_count": 63,
     "metadata": {},
     "output_type": "execute_result"
    }
   ],
   "source": [
    "# Evaluation_matrics_all = Evaluation_matrics_all.style.set_caption('3-classes performance evaluation')\n",
    "metric_valid = pd.DataFrame({\"Dataset\": ['Valid'],\n",
    "    \n",
    "    \"Num of Channels\": [n_chan],\n",
    "                                \"Channel names\": [list(ch_names)],\n",
    "                                \"Accuracy\": valid_accuracy_2classes,\n",
    "                           \"Kappa\": valid_cohen_kappa_2classes,\n",
    "                           \"Awake Precision\": c_2valid['Awake']['precision'],\n",
    "                           \"Sleep Precision\": c_2valid['Sleep']['precision'],\n",
    "                           \"AS Precision\": c_3valid['AS']['precision'],\n",
    "                           \"QS Precision\": c_3valid['QS']['precision'],\n",
    "\n",
    "                           \"Awake Recall\": c_2valid['Awake']['recall'],\n",
    "                           \"Sleep Recall\": c_2valid['Sleep']['recall'],\n",
    "                           \"AS Recall\": c_3valid['AS']['recall'],\n",
    "                           \"QS Recall\": c_3valid['QS']['recall']\n",
    "                            \n",
    "                                      })\n",
    "\n",
    "\n",
    "metric_valid.style.format({\"Accuracy\":\"{:.1%}\", \"Kappa\": \"{:.1%}\", \"Awake Precision\": \"{:.1%}\", \"Sleep Precision\": \"{:.1%}\", \"AS Precision\": \"{:.1%}\", \"QS Precision\": \"{:.1%}\", \"Awake Recall\": \"{:.1%}\", \"Sleep Recall\": \"{:.1%}\" , \"AS Recall\": \"{:.1%}\", \"QS Recall\": \"{:.1%}\"})"
   ]
  },
  {
   "cell_type": "code",
   "execution_count": null,
   "id": "d46f0b38-74a2-4a03-8645-2ff1f0217afa",
   "metadata": {},
   "outputs": [],
   "source": []
  },
  {
   "cell_type": "code",
   "execution_count": null,
   "id": "0298be61-9076-4eed-a5f4-2ba3759211b1",
   "metadata": {},
   "outputs": [],
   "source": []
  },
  {
   "cell_type": "code",
   "execution_count": 64,
   "id": "69db1b82-701b-44a8-b764-3a318e41a82e",
   "metadata": {},
   "outputs": [
    {
     "data": {
      "image/png": "[encoded data removed]",
      "text/plain": [
       "<Figure size 640x480 with 2 Axes>"
      ]
     },
     "metadata": {},
     "output_type": "display_data"
    }
   ],
   "source": [
    "from sklearn.metrics import confusion_matrix, ConfusionMatrixDisplay\n",
    "classes_mapping = {0: \"QS\", 1: \"AS\", 2: \"Awake\"}\n",
    "display_labels = list(classes_mapping.values())\n",
    "# labels = [2,0,1] #Change the label order of the confusion matrix\n",
    "\n",
    "labels = [0,1,2]\n",
    "#conf_mat = confusion_matrix(y_true, y_pred)\n",
    "conf_mat = confusion_matrix(y_true, y_pred, labels = labels)\n",
    "\n",
    "\n",
    "disp = ConfusionMatrixDisplay(confusion_matrix = conf_mat, display_labels = display_labels)\n",
    "disp.plot()\n",
    "plt.title('3-classes Confusion Matrix')\n",
    "plt.rcParams.update({'font.size': 28})\n",
    "plt.show()"
   ]
  },
  {
   "cell_type": "code",
   "execution_count": 65,
   "id": "ac627341-ad1f-4c6d-842f-789ca80a3c57",
   "metadata": {},
   "outputs": [
    {
     "data": {
      "image/png": "[encoded data removed]",
      "text/plain": [
       "<Figure size 640x480 with 2 Axes>"
      ]
     },
     "metadata": {},
     "output_type": "display_data"
    }
   ],
   "source": [
    "from sklearn.metrics import confusion_matrix, ConfusionMatrixDisplay\n",
    "classes_mapping = {2: \"Awake\", 1: \"Sleep\"}\n",
    "display_labels = list(classes_mapping.values())\n",
    "# labels = [2,0,1] #Change the label order of the confusion matrix\n",
    "\n",
    "labels = [2,1]\n",
    "#conf_mat = confusion_matrix(y_true, y_pred)\n",
    "conf_mat_2classes = confusion_matrix(df_test['true'],df_test['prediction'], labels = labels)\n",
    "\n",
    "\n",
    "disp = ConfusionMatrixDisplay(confusion_matrix = conf_mat_2classes, display_labels = display_labels)\n",
    "disp.plot()\n",
    "plt.title('2-classes Confusion Matrix')\n",
    "plt.rcParams.update({'font.size': 28})\n",
    "plt.show()"
   ]
  },
  {
   "cell_type": "code",
   "execution_count": 66,
   "id": "e1d39084-2149-4914-9670-a89b1314542a",
   "metadata": {},
   "outputs": [
    {
     "ename": "IndexError",
     "evalue": "Boolean index has wrong length: 5701 instead of 1389",
     "output_type": "error",
     "traceback": [
      "\u001b[1;31m---------------------------------------------------------------------------\u001b[0m",
      "\u001b[1;31mIndexError\u001b[0m                                Traceback (most recent call last)",
      "Cell \u001b[1;32mIn[66], line 4\u001b[0m\n\u001b[0;32m      2\u001b[0m mask \u001b[38;5;241m=\u001b[39m rec_ids_test \u001b[38;5;241m==\u001b[39m i\n\u001b[0;32m      3\u001b[0m \u001b[38;5;66;03m#len(y_true[mask]): number of epochs\u001b[39;00m\n\u001b[1;32m----> 4\u001b[0m t \u001b[38;5;241m=\u001b[39m np\u001b[38;5;241m.\u001b[39marange(\u001b[38;5;28mlen\u001b[39m(\u001b[43my_true\u001b[49m\u001b[43m[\u001b[49m\u001b[43mmask\u001b[49m\u001b[43m]\u001b[49m)) \u001b[38;5;241m*\u001b[39m \u001b[38;5;241m30\u001b[39m \u001b[38;5;241m/\u001b[39m \u001b[38;5;241m3600\u001b[39m  \u001b[38;5;66;03m#单位换算：秒换算成小时\u001b[39;00m\n\u001b[0;32m      6\u001b[0m fig, ax \u001b[38;5;241m=\u001b[39m plt\u001b[38;5;241m.\u001b[39msubplots(figsize\u001b[38;5;241m=\u001b[39m(\u001b[38;5;241m12\u001b[39m, \u001b[38;5;241m3\u001b[39m))\n\u001b[0;32m      7\u001b[0m plt\u001b[38;5;241m.\u001b[39mrcParams\u001b[38;5;241m.\u001b[39mupdate({\u001b[38;5;124m'\u001b[39m\u001b[38;5;124mfont.size\u001b[39m\u001b[38;5;124m'\u001b[39m: \u001b[38;5;241m20\u001b[39m})\n",
      "File \u001b[1;32mD:\\Python\\Lib\\site-packages\\pandas\\core\\series.py:1139\u001b[0m, in \u001b[0;36mSeries.__getitem__\u001b[1;34m(self, key)\u001b[0m\n\u001b[0;32m   1136\u001b[0m     \u001b[38;5;28;01mreturn\u001b[39;00m \u001b[38;5;28mself\u001b[39m\u001b[38;5;241m.\u001b[39m_getitem_slice(key)\n\u001b[0;32m   1138\u001b[0m \u001b[38;5;28;01mif\u001b[39;00m com\u001b[38;5;241m.\u001b[39mis_bool_indexer(key):\n\u001b[1;32m-> 1139\u001b[0m     key \u001b[38;5;241m=\u001b[39m \u001b[43mcheck_bool_indexer\u001b[49m\u001b[43m(\u001b[49m\u001b[38;5;28;43mself\u001b[39;49m\u001b[38;5;241;43m.\u001b[39;49m\u001b[43mindex\u001b[49m\u001b[43m,\u001b[49m\u001b[43m \u001b[49m\u001b[43mkey\u001b[49m\u001b[43m)\u001b[49m\n\u001b[0;32m   1140\u001b[0m     key \u001b[38;5;241m=\u001b[39m np\u001b[38;5;241m.\u001b[39masarray(key, dtype\u001b[38;5;241m=\u001b[39m\u001b[38;5;28mbool\u001b[39m)\n\u001b[0;32m   1141\u001b[0m     \u001b[38;5;28;01mreturn\u001b[39;00m \u001b[38;5;28mself\u001b[39m\u001b[38;5;241m.\u001b[39m_get_rows_with_mask(key)\n",
      "File \u001b[1;32mD:\\Python\\Lib\\site-packages\\pandas\\core\\indexing.py:2674\u001b[0m, in \u001b[0;36mcheck_bool_indexer\u001b[1;34m(index, key)\u001b[0m\n\u001b[0;32m   2670\u001b[0m \u001b[38;5;28;01melif\u001b[39;00m \u001b[38;5;129;01mnot\u001b[39;00m is_array_like(result):\n\u001b[0;32m   2671\u001b[0m     \u001b[38;5;66;03m# GH 33924\u001b[39;00m\n\u001b[0;32m   2672\u001b[0m     \u001b[38;5;66;03m# key may contain nan elements, check_array_indexer needs bool array\u001b[39;00m\n\u001b[0;32m   2673\u001b[0m     result \u001b[38;5;241m=\u001b[39m pd_array(result, dtype\u001b[38;5;241m=\u001b[39m\u001b[38;5;28mbool\u001b[39m)\n\u001b[1;32m-> 2674\u001b[0m \u001b[38;5;28;01mreturn\u001b[39;00m \u001b[43mcheck_array_indexer\u001b[49m\u001b[43m(\u001b[49m\u001b[43mindex\u001b[49m\u001b[43m,\u001b[49m\u001b[43m \u001b[49m\u001b[43mresult\u001b[49m\u001b[43m)\u001b[49m\n",
      "File \u001b[1;32mD:\\Python\\Lib\\site-packages\\pandas\\core\\indexers\\utils.py:539\u001b[0m, in \u001b[0;36mcheck_array_indexer\u001b[1;34m(array, indexer)\u001b[0m\n\u001b[0;32m    537\u001b[0m     \u001b[38;5;66;03m# GH26658\u001b[39;00m\n\u001b[0;32m    538\u001b[0m     \u001b[38;5;28;01mif\u001b[39;00m \u001b[38;5;28mlen\u001b[39m(indexer) \u001b[38;5;241m!=\u001b[39m \u001b[38;5;28mlen\u001b[39m(array):\n\u001b[1;32m--> 539\u001b[0m         \u001b[38;5;28;01mraise\u001b[39;00m \u001b[38;5;167;01mIndexError\u001b[39;00m(\n\u001b[0;32m    540\u001b[0m             \u001b[38;5;124mf\u001b[39m\u001b[38;5;124m\"\u001b[39m\u001b[38;5;124mBoolean index has wrong length: \u001b[39m\u001b[38;5;124m\"\u001b[39m\n\u001b[0;32m    541\u001b[0m             \u001b[38;5;124mf\u001b[39m\u001b[38;5;124m\"\u001b[39m\u001b[38;5;132;01m{\u001b[39;00m\u001b[38;5;28mlen\u001b[39m(indexer)\u001b[38;5;132;01m}\u001b[39;00m\u001b[38;5;124m instead of \u001b[39m\u001b[38;5;132;01m{\u001b[39;00m\u001b[38;5;28mlen\u001b[39m(array)\u001b[38;5;132;01m}\u001b[39;00m\u001b[38;5;124m\"\u001b[39m\n\u001b[0;32m    542\u001b[0m         )\n\u001b[0;32m    543\u001b[0m \u001b[38;5;28;01melif\u001b[39;00m is_integer_dtype(dtype):\n\u001b[0;32m    544\u001b[0m     \u001b[38;5;28;01mtry\u001b[39;00m:\n",
      "\u001b[1;31mIndexError\u001b[0m: Boolean index has wrong length: 5701 instead of 1389"
     ]
    }
   ],
   "source": [
    "for i in range(len(set(rec_ids_test))):\n",
    "    mask = rec_ids_test == i\n",
    "    #len(y_true[mask]): number of epochs\n",
    "    t = np.arange(len(y_true[mask])) * 30 / 3600  #单位换算：秒换算成小时\n",
    "\n",
    "    fig, ax = plt.subplots(figsize=(12, 3))\n",
    "    plt.rcParams.update({'font.size': 20})\n",
    "    ax.plot(t, y_true[mask], label='真实值')\n",
    "    ax.plot(t, y_pred[mask], alpha=0.7, label='预测值')\n",
    "\n",
    "\n",
    "    ax.set_yticks([0,1,2])\n",
    "    ax.set_yticklabels(['QS', ' AS', 'Awake'],fontsize=20)\n",
    "    ax.set_xlabel('Time (h)',fontsize=20)\n",
    "    ax.set_title('Hypnogram: Test subject ' + str(i),fontsize=25)\n",
    "    \n",
    "    #plt.rcParams.update({'axes.titlesize': 'x-small', 'axes.labelsize': 'x-small'})\n",
    "\n",
    "    ax.legend()\n",
    "    pylab.show();"
   ]
  },
  {
   "cell_type": "code",
   "execution_count": null,
   "id": "adbb8ecb-c2eb-442d-a6ac-6118741fe660",
   "metadata": {},
   "outputs": [],
   "source": [
    "for i in range(len(set(rec_ids_test))):\n",
    "    mask = rec_ids_test == i #the number of subject\n",
    "#len(y_true[mask]): number of epochs\n",
    "    counts_true = np.unique(y_true[mask], return_counts = True) # return the number of epochs for each sleep stage\n",
    "    counts_pred = np.unique(y_pred[mask], return_counts = True)\n",
    "    awake_len_true = counts_true[1][0] * 30 / 60\n",
    "    awake_len_pred = counts_pred[1][0] * 30 / 60\n",
    "    \n",
    "    as_len_true = counts_true[1][1] * 30 / 60\n",
    "    as_len_pred = counts_pred[1][1] * 30 / 60\n",
    "    \n",
    "    qs_len_true = counts_true[1][2] * 30 / 60\n",
    "    qs_len_pred = counts_pred[1][2] * 30 / 60\n",
    "    \n",
    "    total_len = len(y_true[mask]) * 30 / 60  #change s to min\n",
    "    \n",
    "    awake_ratio_true = awake_len_true/total_len\n",
    "    awake_ratio_pred = awake_len_pred/total_len\n",
    "    \n",
    "    as_ratio_true = as_len_true/total_len\n",
    "    as_ratio_pred = as_len_pred/total_len\n",
    "    \n",
    "    qs_ratio_true = qs_len_true/total_len\n",
    "    qs_ratio_pred = qs_len_pred/total_len\n",
    "\n",
    "    diff_awake = awake_len_pred - awake_len_true\n",
    "    diff_as = as_len_pred - as_len_true\n",
    "    diff_qs = qs_len_pred - qs_len_true\n",
    "\n",
    "    diff_awake_ratio = (awake_ratio_pred-awake_ratio_true)/awake_ratio_true\n",
    "    diff_as_ratio = (as_ratio_pred-as_ratio_true)/as_ratio_true\n",
    "    diff_qs_ratio = (qs_ratio_pred-qs_ratio_true)/qs_ratio_true\n",
    "\n",
    "    \n",
    "    \n",
    "    hyp = pd.DataFrame({'Test subject': [i],\n",
    "                        'Total sleep time (min)': total_len,\n",
    "                        'Awake True Length (min)': awake_len_true,\n",
    "                        'Awake Pred Length (min)': awake_len_pred,\n",
    "                        'As True Length (min)': as_len_true,\n",
    "                        'As Pred Length (min)': as_len_pred,\n",
    "                        'Qs True Length (min)': qs_len_true,\n",
    "                        'Qs Pred Length (min)': qs_len_pred,\n",
    "\n",
    "\n",
    "                        'Awake True ratio': round(awake_ratio_true,2),\n",
    "                        'Awake Pred ratio': round(awake_ratio_pred,2),\n",
    "\n",
    "                        'As True ratio': round(as_ratio_true,2),\n",
    "                        'As Pred ratio': round(as_ratio_pred,2),\n",
    "\n",
    "                        'Qs True ratio': qs_ratio_true,\n",
    "                        'Qs Pred ratio': qs_ratio_pred,\n",
    "\n",
    "                        \n",
    "\n",
    "                        # 'Awake Length Diff': diff_awake,\n",
    "                        # 'As Length Diff': diff_as,\n",
    "                        # 'Qs Length Diff': diff_qs,\n",
    "\n",
    "                        # 'Awake Ratio Diff': diff_awake_ratio,\n",
    "                        # 'As Ratio Diff': diff_as_ratio,\n",
    "                        # 'Qs Ratio Diff': diff_qs_ratio,\n",
    "                        \n",
    "\n",
    "               \n",
    "                       \n",
    "                       })\n",
    "    #hyp.style.format({'Awake Ratio': \"{:.1%}\", 'AS Ratio': \"{:.1%}\", 'QS Ratio': \"{:.1%}\"})\n",
    "    hyp['Qs True ratio'] = hyp['Qs True ratio'].map('{:.1%}'.format)\n",
    "    hyp['Qs Pred ratio'] = hyp['Qs Pred ratio'].map('{:.1%}'.format)\n",
    "    display(hyp)"
   ]
  },
  {
   "cell_type": "code",
   "execution_count": null,
   "id": "ca719e5c-2aa8-4972-87d4-b8cf04cd4c59",
   "metadata": {},
   "outputs": [],
   "source": []
  },
  {
   "cell_type": "code",
   "execution_count": null,
   "id": "10f216b0-6a1b-4f16-85e7-5a3480571677",
   "metadata": {},
   "outputs": [],
   "source": []
  },
  {
   "cell_type": "code",
   "execution_count": null,
   "id": "999badf2-46bf-4b5c-8bba-3486c93516bb",
   "metadata": {},
   "outputs": [],
   "source": []
  },
  {
   "cell_type": "code",
   "execution_count": null,
   "id": "c3d49934-fd95-4c9c-ba86-a2443c1c99cd",
   "metadata": {},
   "outputs": [],
   "source": []
  },
  {
   "cell_type": "code",
   "execution_count": null,
   "id": "ab797345-c49e-45b8-bf5b-c6184fb2876c",
   "metadata": {},
   "outputs": [],
   "source": []
  },
  {
   "cell_type": "code",
   "execution_count": null,
   "id": "5bbfcd93-5328-49a2-8980-0781b09414ea",
   "metadata": {},
   "outputs": [],
   "source": []
  }
 ],
 "metadata": {
  "kernelspec": {
   "display_name": "Python 3 (ipykernel)",
   "language": "python",
   "name": "python3"
  },
  "language_info": {
   "codemirror_mode": {
    "name": "ipython",
    "version": 3
   },
   "file_extension": ".py",
   "mimetype": "text/x-python",
   "name": "python",
   "nbconvert_exporter": "python",
   "pygments_lexer": "ipython3",
   "version": "3.12.2"
  }
 },
 "nbformat": 4,
 "nbformat_minor": 5
}
